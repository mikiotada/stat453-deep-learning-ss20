{
 "cells": [
  {
   "cell_type": "markdown",
   "metadata": {},
   "source": [
    "STAT 453: Deep Learning (Spring 2020)  \n",
    "Instructor: Sebastian Raschka (sraschka@wisc.edu)  \n",
    "\n",
    "Course website: http://pages.stat.wisc.edu/~sraschka/teaching/stat453-ss2020/  \n",
    "GitHub repository: https://github.com/rasbt/stat453-deep-learning-ss20"
   ]
  },
  {
   "cell_type": "code",
   "execution_count": 1,
   "metadata": {},
   "outputs": [
    {
     "name": "stdout",
     "output_type": "stream",
     "text": [
      "Sebastian Raschka \n",
      "\n",
      "CPython 3.7.1\n",
      "IPython 7.12.0\n",
      "\n",
      "torch 1.4.0\n"
     ]
    }
   ],
   "source": [
    "%load_ext watermark\n",
    "%watermark -a 'Sebastian Raschka' -v -p torch"
   ]
  },
  {
   "cell_type": "markdown",
   "metadata": {},
   "source": [
    "- Runs on CPU or GPU (if available)"
   ]
  },
  {
   "cell_type": "markdown",
   "metadata": {},
   "source": [
    "# Logistic Regression with L2 Regularization"
   ]
  },
  {
   "cell_type": "markdown",
   "metadata": {},
   "source": [
    "Implementation of *classic* logistic regression for binary class labels."
   ]
  },
  {
   "cell_type": "markdown",
   "metadata": {},
   "source": [
    "## Imports"
   ]
  },
  {
   "cell_type": "code",
   "execution_count": 2,
   "metadata": {},
   "outputs": [],
   "source": [
    "%matplotlib inline\n",
    "import matplotlib.pyplot as plt\n",
    "import numpy as np\n",
    "\n",
    "import torch\n",
    "import torch.nn.functional as F\n",
    "\n",
    "device = torch.device('cuda:0' if torch.cuda.is_available() else 'cpu')\n",
    "LAMBDA = 2"
   ]
  },
  {
   "cell_type": "markdown",
   "metadata": {},
   "source": [
    "## Preparing a toy dataset"
   ]
  },
  {
   "cell_type": "code",
   "execution_count": 3,
   "metadata": {},
   "outputs": [
    {
     "data": {
      "image/png": "[encoded data removed]",
      "text/plain": [
       "<Figure size 504x180 with 2 Axes>"
      ]
     },
     "metadata": {
      "needs_background": "light"
     },
     "output_type": "display_data"
    }
   ],
   "source": [
    "##########################\n",
    "### DATASET\n",
    "##########################\n",
    "\n",
    "data = np.genfromtxt('data/toydata.txt', delimiter='\\t')\n",
    "x = data[:, :2].astype(np.float32)\n",
    "y = data[:, 2].astype(np.int64)\n",
    "\n",
    "np.random.seed(123)\n",
    "idx = np.arange(y.shape[0])\n",
    "np.random.shuffle(idx)\n",
    "X_test, y_test = x[idx[:25]], y[idx[:25]]\n",
    "X_train, y_train = x[idx[25:]], y[idx[25:]]\n",
    "mu, std = np.mean(X_train, axis=0), np.std(X_train, axis=0)\n",
    "X_train, X_test = (X_train - mu) / std, (X_test - mu) / std\n",
    "\n",
    "fig, ax = plt.subplots(1, 2, figsize=(7, 2.5))\n",
    "ax[0].scatter(X_train[y_train == 1, 0], X_train[y_train == 1, 1])\n",
    "ax[0].scatter(X_train[y_train == 0, 0], X_train[y_train == 0, 1])\n",
    "ax[1].scatter(X_test[y_test == 1, 0], X_test[y_test == 1, 1])\n",
    "ax[1].scatter(X_test[y_test == 0, 0], X_test[y_test == 0, 1])\n",
    "plt.xlim([x[:, 0].min()-0.5, x[:, 0].max()+0.5])\n",
    "plt.ylim([x[:, 1].min()-0.5, x[:, 1].max()+0.5])\n",
    "plt.show()"
   ]
  },
  {
   "cell_type": "markdown",
   "metadata": {},
   "source": [
    "<br>\n",
    "<br>\n",
    "<br>"
   ]
  },
  {
   "cell_type": "markdown",
   "metadata": {},
   "source": [
    "## L2-Regularized Logistic Regression via `weight_decay`"
   ]
  },
  {
   "cell_type": "code",
   "execution_count": 4,
   "metadata": {},
   "outputs": [
    {
     "name": "stdout",
     "output_type": "stream",
     "text": [
      "Epoch: 001 | Train ACC: 0.973 | Cost: 0.055\n",
      "Epoch: 002 | Train ACC: 0.973 | Cost: 0.065\n",
      "Epoch: 003 | Train ACC: 0.973 | Cost: 0.080\n",
      "Epoch: 004 | Train ACC: 0.973 | Cost: 0.094\n",
      "Epoch: 005 | Train ACC: 0.973 | Cost: 0.104\n",
      "Epoch: 006 | Train ACC: 0.973 | Cost: 0.108\n",
      "Epoch: 007 | Train ACC: 0.973 | Cost: 0.110\n",
      "Epoch: 008 | Train ACC: 0.973 | Cost: 0.111\n",
      "Epoch: 009 | Train ACC: 0.973 | Cost: 0.112\n",
      "Epoch: 010 | Train ACC: 0.973 | Cost: 0.112\n",
      "Epoch: 011 | Train ACC: 0.973 | Cost: 0.112\n",
      "Epoch: 012 | Train ACC: 0.973 | Cost: 0.112\n",
      "Epoch: 013 | Train ACC: 0.973 | Cost: 0.112\n",
      "Epoch: 014 | Train ACC: 0.973 | Cost: 0.112\n",
      "Epoch: 015 | Train ACC: 0.973 | Cost: 0.112\n",
      "Epoch: 016 | Train ACC: 0.973 | Cost: 0.112\n",
      "Epoch: 017 | Train ACC: 0.973 | Cost: 0.112\n",
      "Epoch: 018 | Train ACC: 0.973 | Cost: 0.112\n",
      "Epoch: 019 | Train ACC: 0.973 | Cost: 0.112\n",
      "Epoch: 020 | Train ACC: 0.973 | Cost: 0.112\n",
      "Epoch: 021 | Train ACC: 0.973 | Cost: 0.112\n",
      "Epoch: 022 | Train ACC: 0.973 | Cost: 0.112\n",
      "Epoch: 023 | Train ACC: 0.973 | Cost: 0.112\n",
      "Epoch: 024 | Train ACC: 0.973 | Cost: 0.112\n",
      "Epoch: 025 | Train ACC: 0.973 | Cost: 0.112\n",
      "Epoch: 026 | Train ACC: 0.973 | Cost: 0.112\n",
      "Epoch: 027 | Train ACC: 0.973 | Cost: 0.112\n",
      "Epoch: 028 | Train ACC: 0.973 | Cost: 0.112\n",
      "Epoch: 029 | Train ACC: 0.973 | Cost: 0.112\n",
      "Epoch: 030 | Train ACC: 0.973 | Cost: 0.112\n",
      "\n",
      "Model parameters:\n",
      "  Weights: Parameter containing:\n",
      "tensor([[1.7546, 1.5997]], requires_grad=True)\n",
      "  Bias: Parameter containing:\n",
      "tensor([-0.0401], requires_grad=True)\n",
      "\n",
      "\n",
      "Test set accuracy: 96.00%\n"
     ]
    }
   ],
   "source": [
    "def custom_where(cond, x_1, x_2):\n",
    "    return (cond * x_1) + ((1-cond) * x_2)\n",
    "\n",
    "\n",
    "class LogisticRegression(torch.nn.Module):\n",
    "\n",
    "    def __init__(self, num_features):\n",
    "        super(LogisticRegression, self).__init__()\n",
    "        self.linear = torch.nn.Linear(num_features, 1)\n",
    "        # initialize weights to zeros here,\n",
    "        # since we used zero weights in the\n",
    "        # manual approach\n",
    "        \n",
    "        self.linear.weight.detach().zero_()\n",
    "        self.linear.bias.detach().zero_()\n",
    "        # Note: the trailing underscore\n",
    "        # means \"in-place operation\" in the context\n",
    "        # of PyTorch\n",
    "        \n",
    "    def forward(self, x):\n",
    "        logits = self.linear(x)\n",
    "        probas = torch.sigmoid(logits)\n",
    "        return probas\n",
    "\n",
    "model = LogisticRegression(num_features=2).to(device)\n",
    "\n",
    "#########################################################\n",
    "## Apply L2 regularization\n",
    "optimizer = torch.optim.SGD(model.parameters(), \n",
    "                            lr=0.1, \n",
    "                            weight_decay=LAMBDA)\n",
    "#-------------------------------------------------------\n",
    "\n",
    "\n",
    "def comp_accuracy(label_var, pred_probas):\n",
    "    pred_labels = custom_where((pred_probas > 0.5).float(), 1, 0).view(-1)\n",
    "    acc = torch.sum(pred_labels == label_var.view(-1)).float() / label_var.size(0)\n",
    "    return acc\n",
    "\n",
    "\n",
    "num_epochs = 30\n",
    "\n",
    "X_train_tensor = torch.tensor(X_train, dtype=torch.float32, device=device)\n",
    "y_train_tensor = torch.tensor(y_train, dtype=torch.float32, device=device).view(-1, 1)\n",
    "\n",
    "\n",
    "for epoch in range(num_epochs):\n",
    "    \n",
    "    #### Compute outputs ####\n",
    "    out = model(X_train_tensor)\n",
    "    \n",
    "    #### Compute gradients ####\n",
    "    cost = F.binary_cross_entropy(out, y_train_tensor, reduction='sum')\n",
    "    optimizer.zero_grad()\n",
    "    cost.backward()\n",
    "    \n",
    "    #### Update weights ####  \n",
    "    optimizer.step()\n",
    "    \n",
    "    #### Logging ####      \n",
    "    pred_probas = model(X_train_tensor)\n",
    "    acc = comp_accuracy(y_train_tensor, pred_probas)\n",
    "    print('Epoch: %03d' % (epoch + 1), end=\"\")\n",
    "    print(' | Train ACC: %.3f' % acc, end=\"\")\n",
    "    print(' | Cost: %.3f' % F.binary_cross_entropy(pred_probas, y_train_tensor))\n",
    "\n",
    "\n",
    "    \n",
    "print('\\nModel parameters:')\n",
    "print('  Weights: %s' % model.linear.weight)\n",
    "print('  Bias: %s' % model.linear.bias)\n",
    "\n",
    "\n",
    "X_test_tensor = torch.tensor(X_test, dtype=torch.float32, device=device)\n",
    "y_test_tensor = torch.tensor(y_test, dtype=torch.float32, device=device)\n",
    "\n",
    "pred_probas = model(X_test_tensor)\n",
    "test_acc = comp_accuracy(y_test_tensor, pred_probas)\n",
    "\n",
    "print('\\n\\nTest set accuracy: %.2f%%' % (test_acc*100))"
   ]
  },
  {
   "cell_type": "markdown",
   "metadata": {},
   "source": [
    "## L2-Regularized Logistic Regression via Manual Regularization"
   ]
  },
  {
   "cell_type": "code",
   "execution_count": 5,
   "metadata": {},
   "outputs": [
    {
     "name": "stdout",
     "output_type": "stream",
     "text": [
      "Epoch: 001 | Train ACC: 0.973 | Cost: 0.055\n",
      "Epoch: 002 | Train ACC: 0.973 | Cost: 0.065\n",
      "Epoch: 003 | Train ACC: 0.973 | Cost: 0.080\n",
      "Epoch: 004 | Train ACC: 0.973 | Cost: 0.094\n",
      "Epoch: 005 | Train ACC: 0.973 | Cost: 0.104\n",
      "Epoch: 006 | Train ACC: 0.973 | Cost: 0.108\n",
      "Epoch: 007 | Train ACC: 0.973 | Cost: 0.110\n",
      "Epoch: 008 | Train ACC: 0.973 | Cost: 0.111\n",
      "Epoch: 009 | Train ACC: 0.973 | Cost: 0.112\n",
      "Epoch: 010 | Train ACC: 0.973 | Cost: 0.112\n",
      "Epoch: 011 | Train ACC: 0.973 | Cost: 0.112\n",
      "Epoch: 012 | Train ACC: 0.973 | Cost: 0.112\n",
      "Epoch: 013 | Train ACC: 0.973 | Cost: 0.112\n",
      "Epoch: 014 | Train ACC: 0.973 | Cost: 0.112\n",
      "Epoch: 015 | Train ACC: 0.973 | Cost: 0.112\n",
      "Epoch: 016 | Train ACC: 0.973 | Cost: 0.112\n",
      "Epoch: 017 | Train ACC: 0.973 | Cost: 0.112\n",
      "Epoch: 018 | Train ACC: 0.973 | Cost: 0.112\n",
      "Epoch: 019 | Train ACC: 0.973 | Cost: 0.112\n",
      "Epoch: 020 | Train ACC: 0.973 | Cost: 0.112\n",
      "Epoch: 021 | Train ACC: 0.973 | Cost: 0.112\n",
      "Epoch: 022 | Train ACC: 0.973 | Cost: 0.112\n",
      "Epoch: 023 | Train ACC: 0.973 | Cost: 0.112\n",
      "Epoch: 024 | Train ACC: 0.973 | Cost: 0.112\n",
      "Epoch: 025 | Train ACC: 0.973 | Cost: 0.112\n",
      "Epoch: 026 | Train ACC: 0.973 | Cost: 0.112\n",
      "Epoch: 027 | Train ACC: 0.973 | Cost: 0.112\n",
      "Epoch: 028 | Train ACC: 0.973 | Cost: 0.112\n",
      "Epoch: 029 | Train ACC: 0.973 | Cost: 0.112\n",
      "Epoch: 030 | Train ACC: 0.973 | Cost: 0.112\n",
      "\n",
      "Model parameters:\n",
      "  Weights: Parameter containing:\n",
      "tensor([[1.7546, 1.5997]], requires_grad=True)\n",
      "  Bias: Parameter containing:\n",
      "tensor([-0.0401], requires_grad=True)\n",
      "\n",
      "\n",
      "Test set accuracy: 96.00%\n"
     ]
    }
   ],
   "source": [
    "model = LogisticRegression(num_features=2).to(device)\n",
    "optimizer = torch.optim.SGD(model.parameters(), lr=0.1)\n",
    "\n",
    "for epoch in range(num_epochs):\n",
    "    \n",
    "    #### Compute outputs ####\n",
    "    out = model(X_train_tensor)\n",
    "    \n",
    "    #### Compute gradients ####\n",
    "    \n",
    "    #########################################################\n",
    "    ## Apply L2 regularization (weight decay)\n",
    "    cost = F.binary_cross_entropy(out, y_train_tensor, reduction='sum')\n",
    "    cost = cost + 0.5 * LAMBDA * torch.mm(model.linear.weight,\n",
    "                                          model.linear.weight.t())\n",
    "    \n",
    "    # note that PyTorch also regularizes the bias, hence, if we want\n",
    "    # to reproduce the behavior of SGD's \"weight_decay\" param, we have to add\n",
    "    # the bias term as well: \n",
    "    cost = cost + 0.5 * LAMBDA * model.linear.bias**2\n",
    "    #-------------------------------------------------------\n",
    "    \n",
    "    optimizer.zero_grad()\n",
    "    cost.backward()\n",
    "    \n",
    "    #### Update weights ####  \n",
    "    optimizer.step()\n",
    "    \n",
    "    #### Logging ####      \n",
    "    pred_probas = model(X_train_tensor)\n",
    "    acc = comp_accuracy(y_train_tensor, pred_probas)\n",
    "    print('Epoch: %03d' % (epoch + 1), end=\"\")\n",
    "    print(' | Train ACC: %.3f' % acc, end=\"\")\n",
    "    print(' | Cost: %.3f' % F.binary_cross_entropy(pred_probas, y_train_tensor))\n",
    "\n",
    "\n",
    "    \n",
    "print('\\nModel parameters:')\n",
    "print('  Weights: %s' % model.linear.weight)\n",
    "print('  Bias: %s' % model.linear.bias)\n",
    "\n",
    "\n",
    "X_test_tensor = torch.tensor(X_test, dtype=torch.float32, device=device)\n",
    "y_test_tensor = torch.tensor(y_test, dtype=torch.float32, device=device)\n",
    "\n",
    "pred_probas = model(X_test_tensor)\n",
    "test_acc = comp_accuracy(y_test_tensor, pred_probas)\n",
    "\n",
    "print('\\n\\nTest set accuracy: %.2f%%' % (test_acc*100))"
   ]
  },
  {
   "cell_type": "markdown",
   "metadata": {},
   "source": [
    "**Note: for easier comparison we plotted the regular cost, not the regularized cost (strictly, plotting the regularized cost is more useful as the regular ost may not always go down while making \"progress\")**"
   ]
  }
 ],
 "metadata": {
  "kernelspec": {
   "display_name": "Python 3",
   "language": "python",
   "name": "python3"
  },
  "language_info": {
   "codemirror_mode": {
    "name": "ipython",
    "version": 3
   },
   "file_extension": ".py",
   "mimetype": "text/x-python",
   "name": "python",
   "nbconvert_exporter": "python",
   "pygments_lexer": "ipython3",
   "version": "3.7.1"
  },
  "toc": {
   "nav_menu": {},
   "number_sections": true,
   "sideBar": true,
   "skip_h1_title": false,
   "title_cell": "Table of Contents",
   "title_sidebar": "Contents",
   "toc_cell": false,
   "toc_position": {},
   "toc_section_display": true,
   "toc_window_display": false
  }
 },
 "nbformat": 4,
 "nbformat_minor": 4
}
