{
 "cells": [
  {
   "cell_type": "markdown",
   "metadata": {},
   "source": [
    "STAT 453: Deep Learning (Spring 2020)  \n",
    "\n",
    "Instructor: Sebastian Raschka (sraschka@wisc.edu)  \n",
    "Course website: http://pages.stat.wisc.edu/~sraschka/teaching/stat453-ss2020/  \n",
    "GitHub repository: https://github.com/rasbt/stat453-deep-learning-ss20"
   ]
  },
  {
   "cell_type": "code",
   "execution_count": 1,
   "metadata": {},
   "outputs": [
    {
     "name": "stdout",
     "output_type": "stream",
     "text": [
      "Sebastian Raschka \n",
      "\n",
      "CPython 3.7.3\n",
      "IPython 7.9.0\n",
      "\n",
      "torch 1.4.0\n"
     ]
    }
   ],
   "source": [
    "%load_ext watermark\n",
    "%watermark -a 'Sebastian Raschka' -v -p torch"
   ]
  },
  {
   "cell_type": "markdown",
   "metadata": {},
   "source": [
    "- Runs on CPU or GPU (if available)"
   ]
  },
  {
   "cell_type": "markdown",
   "metadata": {},
   "source": [
    "# 02 -- Convolutional Autoencoder with Nearest-neighbor Interpolation"
   ]
  },
  {
   "cell_type": "markdown",
   "metadata": {},
   "source": [
    "## Imports"
   ]
  },
  {
   "cell_type": "code",
   "execution_count": 2,
   "metadata": {},
   "outputs": [],
   "source": [
    "import time\n",
    "import numpy as np\n",
    "import torch\n",
    "import torch.nn.functional as F\n",
    "from torch.utils.data import DataLoader\n",
    "from torchvision import datasets\n",
    "from torchvision import transforms\n",
    "\n",
    "\n",
    "if torch.cuda.is_available():\n",
    "    torch.backends.cudnn.deterministic = True"
   ]
  },
  {
   "cell_type": "code",
   "execution_count": 3,
   "metadata": {},
   "outputs": [
    {
     "name": "stdout",
     "output_type": "stream",
     "text": [
      "Device: cuda:0\n",
      "Image batch dimensions: torch.Size([128, 1, 28, 28])\n",
      "Image label dimensions: torch.Size([128])\n"
     ]
    }
   ],
   "source": [
    "##########################\n",
    "### SETTINGS\n",
    "##########################\n",
    "\n",
    "# Device\n",
    "device = torch.device(\"cuda:0\" if torch.cuda.is_available() else \"cpu\")\n",
    "print('Device:', device)\n",
    "\n",
    "# Hyperparameters\n",
    "random_seed = 123\n",
    "learning_rate = 0.005\n",
    "num_epochs = 10\n",
    "batch_size = 128\n",
    "\n",
    "\n",
    "\n",
    "##########################\n",
    "### MNIST DATASET\n",
    "##########################\n",
    "\n",
    "\n",
    "custom_transform = transforms.Compose([transforms.ToTensor(),\n",
    "                                       transforms.Normalize((0.5,), (0.5,))])\n",
    "\n",
    "train_dataset = datasets.MNIST(root='data', \n",
    "                               train=True, \n",
    "                               transform=custom_transform,\n",
    "                               download=True)\n",
    "\n",
    "test_dataset = datasets.MNIST(root='data', \n",
    "                              train=False, \n",
    "                              transform=custom_transform)\n",
    "\n",
    "\n",
    "train_loader = DataLoader(dataset=train_dataset, \n",
    "                          batch_size=batch_size, \n",
    "                          shuffle=True)\n",
    "\n",
    "test_loader = DataLoader(dataset=test_dataset, \n",
    "                         batch_size=batch_size, \n",
    "                         shuffle=False)\n",
    "\n",
    "# Checking the dataset\n",
    "for images, labels in train_loader:  \n",
    "    print('Image batch dimensions:', images.shape)\n",
    "    print('Image label dimensions:', labels.shape)\n",
    "    break"
   ]
  },
  {
   "cell_type": "markdown",
   "metadata": {},
   "source": [
    "## Model"
   ]
  },
  {
   "cell_type": "code",
   "execution_count": 4,
   "metadata": {},
   "outputs": [],
   "source": [
    "##########################\n",
    "### MODEL\n",
    "##########################\n",
    "\n",
    "\n",
    "##########################\n",
    "### MODEL\n",
    "##########################\n",
    "\n",
    "\n",
    "class ConvolutionalAutoencoder(torch.nn.Module):\n",
    "\n",
    "    def __init__(self):\n",
    "        super(ConvolutionalAutoencoder, self).__init__()\n",
    "        \n",
    "        # calculate same padding:\n",
    "        # (w - k + 2*p)/s + 1 = o\n",
    "        # => p = (s(o-1) - w + k)/2\n",
    "        \n",
    "        ### ENCODER\n",
    "        \n",
    "        # 28x28x1 => 28x28x4\n",
    "        self.conv_1 = torch.nn.Conv2d(in_channels=1,\n",
    "                                      out_channels=4,\n",
    "                                      kernel_size=(3, 3),\n",
    "                                      stride=(1, 1),\n",
    "                                      # (1(28-1) - 28 + 3) / 2 = 1\n",
    "                                      padding=1) \n",
    "        # 28x28x4 => 14x14x4                              \n",
    "        self.pool_1 = torch.nn.MaxPool2d(kernel_size=(2, 2),\n",
    "                                         stride=(2, 2),\n",
    "                                         # (2(14-1) - 28 + 2) / 2 = 0\n",
    "                                         padding=0)                                       \n",
    "        # 14x14x4 => 14x14x8\n",
    "        self.conv_2 = torch.nn.Conv2d(in_channels=4,\n",
    "                                      out_channels=8,\n",
    "                                      kernel_size=(3, 3),\n",
    "                                      stride=(1, 1),\n",
    "                                      # (1(14-1) - 14 + 3) / 2 = 1\n",
    "                                      padding=1)                 \n",
    "        # 14x14x8 => 7x7x8                             \n",
    "        self.pool_2 = torch.nn.MaxPool2d(kernel_size=(2, 2),\n",
    "                                         stride=(2, 2),\n",
    "                                         # (2(7-1) - 14 + 2) / 2 = 0\n",
    "                                         padding=0)\n",
    "        \n",
    "        ### DECODER\n",
    "                                         \n",
    "        # 7x7x8 => 15x15x4                          \n",
    "        self.deconv_1 = torch.nn.ConvTranspose2d(in_channels=8,\n",
    "                                                 out_channels=4,\n",
    "                                                 kernel_size=(3, 3),\n",
    "                                                 stride=(2, 2),\n",
    "                                                 padding=0)\n",
    "        \n",
    "        # 15x15x4  => 31x31x1                           \n",
    "        self.deconv_2 = torch.nn.ConvTranspose2d(in_channels=4,\n",
    "                                                 out_channels=1,\n",
    "                                                 kernel_size=(3, 3),\n",
    "                                                 stride=(2, 2),\n",
    "                                                 padding=0)\n",
    "        \n",
    "    def forward(self, x):\n",
    "        \n",
    "        ### ENCODER\n",
    "        x = self.conv_1(x)\n",
    "        x = F.leaky_relu(x)\n",
    "        x = self.pool_1(x)\n",
    "        x = self.conv_2(x)\n",
    "        x = F.leaky_relu(x)\n",
    "        x = self.pool_2(x)\n",
    "        \n",
    "        ### DECODER\n",
    "        x = self.deconv_1(x)\n",
    "        x = F.leaky_relu(x)\n",
    "        x = self.deconv_2(x)\n",
    "        x = x[:, :, 2:30, 2:30]\n",
    "        return torch.tanh(x)\n",
    "\n",
    "    \n",
    "torch.manual_seed(random_seed)\n",
    "model = ConvolutionalAutoencoder()\n",
    "model = model.to(device)\n",
    "\n",
    "optimizer = torch.optim.Adam(model.parameters(), lr=learning_rate)"
   ]
  },
  {
   "cell_type": "markdown",
   "metadata": {},
   "source": [
    "## Training"
   ]
  },
  {
   "cell_type": "code",
   "execution_count": 5,
   "metadata": {},
   "outputs": [
    {
     "name": "stdout",
     "output_type": "stream",
     "text": [
      "Epoch: 001/010 | Batch 000/469 | Cost: 0.9761\n",
      "Epoch: 001/010 | Batch 050/469 | Cost: 0.1750\n",
      "Epoch: 001/010 | Batch 100/469 | Cost: 0.1004\n",
      "Epoch: 001/010 | Batch 150/469 | Cost: 0.0727\n",
      "Epoch: 001/010 | Batch 200/469 | Cost: 0.0570\n",
      "Epoch: 001/010 | Batch 250/469 | Cost: 0.0497\n",
      "Epoch: 001/010 | Batch 300/469 | Cost: 0.0378\n",
      "Epoch: 001/010 | Batch 350/469 | Cost: 0.0374\n",
      "Epoch: 001/010 | Batch 400/469 | Cost: 0.0373\n",
      "Epoch: 001/010 | Batch 450/469 | Cost: 0.0337\n",
      "Time elapsed: 0.19 min\n",
      "Epoch: 002/010 | Batch 000/469 | Cost: 0.0348\n",
      "Epoch: 002/010 | Batch 050/469 | Cost: 0.0344\n",
      "Epoch: 002/010 | Batch 100/469 | Cost: 0.0343\n",
      "Epoch: 002/010 | Batch 150/469 | Cost: 0.0308\n",
      "Epoch: 002/010 | Batch 200/469 | Cost: 0.0293\n",
      "Epoch: 002/010 | Batch 250/469 | Cost: 0.0307\n",
      "Epoch: 002/010 | Batch 300/469 | Cost: 0.0301\n",
      "Epoch: 002/010 | Batch 350/469 | Cost: 0.0298\n",
      "Epoch: 002/010 | Batch 400/469 | Cost: 0.0276\n",
      "Epoch: 002/010 | Batch 450/469 | Cost: 0.0262\n",
      "Time elapsed: 0.38 min\n",
      "Epoch: 003/010 | Batch 000/469 | Cost: 0.0280\n",
      "Epoch: 003/010 | Batch 050/469 | Cost: 0.0280\n",
      "Epoch: 003/010 | Batch 100/469 | Cost: 0.0291\n",
      "Epoch: 003/010 | Batch 150/469 | Cost: 0.0268\n",
      "Epoch: 003/010 | Batch 200/469 | Cost: 0.0285\n",
      "Epoch: 003/010 | Batch 250/469 | Cost: 0.0261\n",
      "Epoch: 003/010 | Batch 300/469 | Cost: 0.0264\n",
      "Epoch: 003/010 | Batch 350/469 | Cost: 0.0264\n",
      "Epoch: 003/010 | Batch 400/469 | Cost: 0.0251\n",
      "Epoch: 003/010 | Batch 450/469 | Cost: 0.0243\n",
      "Time elapsed: 0.57 min\n",
      "Epoch: 004/010 | Batch 000/469 | Cost: 0.0245\n",
      "Epoch: 004/010 | Batch 050/469 | Cost: 0.0239\n",
      "Epoch: 004/010 | Batch 100/469 | Cost: 0.0222\n",
      "Epoch: 004/010 | Batch 150/469 | Cost: 0.0226\n",
      "Epoch: 004/010 | Batch 200/469 | Cost: 0.0260\n",
      "Epoch: 004/010 | Batch 250/469 | Cost: 0.0240\n",
      "Epoch: 004/010 | Batch 300/469 | Cost: 0.0227\n",
      "Epoch: 004/010 | Batch 350/469 | Cost: 0.0241\n",
      "Epoch: 004/010 | Batch 400/469 | Cost: 0.0230\n",
      "Epoch: 004/010 | Batch 450/469 | Cost: 0.0226\n",
      "Time elapsed: 0.76 min\n",
      "Epoch: 005/010 | Batch 000/469 | Cost: 0.0234\n",
      "Epoch: 005/010 | Batch 050/469 | Cost: 0.0254\n",
      "Epoch: 005/010 | Batch 100/469 | Cost: 0.0231\n",
      "Epoch: 005/010 | Batch 150/469 | Cost: 0.0244\n",
      "Epoch: 005/010 | Batch 200/469 | Cost: 0.0235\n",
      "Epoch: 005/010 | Batch 250/469 | Cost: 0.0218\n",
      "Epoch: 005/010 | Batch 300/469 | Cost: 0.0211\n",
      "Epoch: 005/010 | Batch 350/469 | Cost: 0.0218\n",
      "Epoch: 005/010 | Batch 400/469 | Cost: 0.0226\n",
      "Epoch: 005/010 | Batch 450/469 | Cost: 0.0230\n",
      "Time elapsed: 0.95 min\n",
      "Epoch: 006/010 | Batch 000/469 | Cost: 0.0216\n",
      "Epoch: 006/010 | Batch 050/469 | Cost: 0.0211\n",
      "Epoch: 006/010 | Batch 100/469 | Cost: 0.0211\n",
      "Epoch: 006/010 | Batch 150/469 | Cost: 0.0219\n",
      "Epoch: 006/010 | Batch 200/469 | Cost: 0.0220\n",
      "Epoch: 006/010 | Batch 250/469 | Cost: 0.0191\n",
      "Epoch: 006/010 | Batch 300/469 | Cost: 0.0218\n",
      "Epoch: 006/010 | Batch 350/469 | Cost: 0.0230\n",
      "Epoch: 006/010 | Batch 400/469 | Cost: 0.0194\n",
      "Epoch: 006/010 | Batch 450/469 | Cost: 0.0204\n",
      "Time elapsed: 1.14 min\n",
      "Epoch: 007/010 | Batch 000/469 | Cost: 0.0223\n",
      "Epoch: 007/010 | Batch 050/469 | Cost: 0.0204\n",
      "Epoch: 007/010 | Batch 100/469 | Cost: 0.0206\n",
      "Epoch: 007/010 | Batch 150/469 | Cost: 0.0214\n",
      "Epoch: 007/010 | Batch 200/469 | Cost: 0.0219\n",
      "Epoch: 007/010 | Batch 250/469 | Cost: 0.0214\n",
      "Epoch: 007/010 | Batch 300/469 | Cost: 0.0203\n",
      "Epoch: 007/010 | Batch 350/469 | Cost: 0.0210\n",
      "Epoch: 007/010 | Batch 400/469 | Cost: 0.0212\n",
      "Epoch: 007/010 | Batch 450/469 | Cost: 0.0209\n",
      "Time elapsed: 1.33 min\n",
      "Epoch: 008/010 | Batch 000/469 | Cost: 0.0197\n",
      "Epoch: 008/010 | Batch 050/469 | Cost: 0.0215\n",
      "Epoch: 008/010 | Batch 100/469 | Cost: 0.0207\n",
      "Epoch: 008/010 | Batch 150/469 | Cost: 0.0212\n",
      "Epoch: 008/010 | Batch 200/469 | Cost: 0.0191\n",
      "Epoch: 008/010 | Batch 250/469 | Cost: 0.0225\n",
      "Epoch: 008/010 | Batch 300/469 | Cost: 0.0207\n",
      "Epoch: 008/010 | Batch 350/469 | Cost: 0.0210\n",
      "Epoch: 008/010 | Batch 400/469 | Cost: 0.0208\n",
      "Epoch: 008/010 | Batch 450/469 | Cost: 0.0234\n",
      "Time elapsed: 1.52 min\n",
      "Epoch: 009/010 | Batch 000/469 | Cost: 0.0219\n",
      "Epoch: 009/010 | Batch 050/469 | Cost: 0.0203\n",
      "Epoch: 009/010 | Batch 100/469 | Cost: 0.0213\n",
      "Epoch: 009/010 | Batch 150/469 | Cost: 0.0201\n",
      "Epoch: 009/010 | Batch 200/469 | Cost: 0.0207\n",
      "Epoch: 009/010 | Batch 250/469 | Cost: 0.0184\n",
      "Epoch: 009/010 | Batch 300/469 | Cost: 0.0207\n",
      "Epoch: 009/010 | Batch 350/469 | Cost: 0.0206\n",
      "Epoch: 009/010 | Batch 400/469 | Cost: 0.0213\n",
      "Epoch: 009/010 | Batch 450/469 | Cost: 0.0232\n",
      "Time elapsed: 1.71 min\n",
      "Epoch: 010/010 | Batch 000/469 | Cost: 0.0197\n",
      "Epoch: 010/010 | Batch 050/469 | Cost: 0.0184\n",
      "Epoch: 010/010 | Batch 100/469 | Cost: 0.0198\n",
      "Epoch: 010/010 | Batch 150/469 | Cost: 0.0204\n",
      "Epoch: 010/010 | Batch 200/469 | Cost: 0.0213\n",
      "Epoch: 010/010 | Batch 250/469 | Cost: 0.0204\n",
      "Epoch: 010/010 | Batch 300/469 | Cost: 0.0210\n",
      "Epoch: 010/010 | Batch 350/469 | Cost: 0.0216\n",
      "Epoch: 010/010 | Batch 400/469 | Cost: 0.0215\n",
      "Epoch: 010/010 | Batch 450/469 | Cost: 0.0206\n",
      "Time elapsed: 1.90 min\n",
      "Total Training Time: 1.90 min\n"
     ]
    }
   ],
   "source": [
    "start_time = time.time()\n",
    "for epoch in range(num_epochs):\n",
    "    for batch_idx, (features, targets) in enumerate(train_loader):\n",
    "        \n",
    "        # don't need labels, only the images (features)\n",
    "        features = features.to(device)\n",
    "\n",
    "        ### FORWARD AND BACK PROP\n",
    "        decoded = model(features)\n",
    "        cost = F.mse_loss(decoded, features)\n",
    "        optimizer.zero_grad()\n",
    "        \n",
    "        cost.backward()\n",
    "        \n",
    "        ### UPDATE MODEL PARAMETERS\n",
    "        optimizer.step()\n",
    "        \n",
    "        ### LOGGING\n",
    "        if not batch_idx % 50:\n",
    "            print ('Epoch: %03d/%03d | Batch %03d/%03d | Cost: %.4f' \n",
    "                   %(epoch+1, num_epochs, batch_idx, \n",
    "                     len(train_loader), cost))\n",
    "            \n",
    "    print('Time elapsed: %.2f min' % ((time.time() - start_time)/60))\n",
    "    \n",
    "print('Total Training Time: %.2f min' % ((time.time() - start_time)/60))"
   ]
  },
  {
   "cell_type": "markdown",
   "metadata": {},
   "source": [
    "## Evaluation"
   ]
  },
  {
   "cell_type": "code",
   "execution_count": 6,
   "metadata": {},
   "outputs": [
    {
     "data": {
      "image/png": "[encoded data removed]",
      "text/plain": [
       "<Figure size 1440x180 with 30 Axes>"
      ]
     },
     "metadata": {
      "needs_background": "light"
     },
     "output_type": "display_data"
    }
   ],
   "source": [
    "%matplotlib inline\n",
    "import matplotlib.pyplot as plt\n",
    "\n",
    "##########################\n",
    "### VISUALIZATION\n",
    "##########################\n",
    "\n",
    "n_images = 15\n",
    "image_width = 28\n",
    "\n",
    "fig, axes = plt.subplots(nrows=2, ncols=n_images, \n",
    "                         sharex=True, sharey=True, figsize=(20, 2.5))\n",
    "orig_images = features[:n_images]\n",
    "decoded_images = decoded[:n_images]\n",
    "\n",
    "for i in range(n_images):\n",
    "    for ax, img in zip(axes, [orig_images, decoded_images]):\n",
    "        curr_img = img[i].detach().to(torch.device('cpu'))\n",
    "        ax[i].imshow(curr_img.view((image_width, image_width)), cmap='binary')"
   ]
  },
  {
   "cell_type": "code",
   "execution_count": 7,
   "metadata": {},
   "outputs": [
    {
     "name": "stdout",
     "output_type": "stream",
     "text": [
      "matplotlib  3.1.0\n",
      "torch       1.4.0\n",
      "numpy       1.17.4\n",
      "torchvision 0.5.0\n",
      "\n"
     ]
    }
   ],
   "source": [
    "%watermark -iv"
   ]
  }
 ],
 "metadata": {
  "kernelspec": {
   "display_name": "Python 3",
   "language": "python",
   "name": "python3"
  },
  "language_info": {
   "codemirror_mode": {
    "name": "ipython",
    "version": 3
   },
   "file_extension": ".py",
   "mimetype": "text/x-python",
   "name": "python",
   "nbconvert_exporter": "python",
   "pygments_lexer": "ipython3",
   "version": "3.7.3"
  },
  "toc": {
   "nav_menu": {},
   "number_sections": true,
   "sideBar": true,
   "skip_h1_title": false,
   "title_cell": "Table of Contents",
   "title_sidebar": "Contents",
   "toc_cell": false,
   "toc_position": {},
   "toc_section_display": true,
   "toc_window_display": false
  }
 },
 "nbformat": 4,
 "nbformat_minor": 4
}
