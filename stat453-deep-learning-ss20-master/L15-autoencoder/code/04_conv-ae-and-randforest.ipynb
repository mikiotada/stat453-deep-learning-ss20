{
 "cells": [
  {
   "cell_type": "markdown",
   "metadata": {},
   "source": [
    "STAT 453: Deep Learning (Spring 2020)  \n",
    "\n",
    "Instructor: Sebastian Raschka (sraschka@wisc.edu)  \n",
    "Course website: http://pages.stat.wisc.edu/~sraschka/teaching/stat453-ss2020/  \n",
    "GitHub repository: https://github.com/rasbt/stat453-deep-learning-ss20"
   ]
  },
  {
   "cell_type": "code",
   "execution_count": 1,
   "metadata": {},
   "outputs": [
    {
     "name": "stdout",
     "output_type": "stream",
     "text": [
      "Sebastian Raschka \n",
      "\n",
      "CPython 3.7.3\n",
      "IPython 7.9.0\n",
      "\n",
      "torch 1.4.0\n"
     ]
    }
   ],
   "source": [
    "%load_ext watermark\n",
    "%watermark -a 'Sebastian Raschka' -v -p torch"
   ]
  },
  {
   "cell_type": "markdown",
   "metadata": {},
   "source": [
    "- Runs on CPU or GPU (if available)"
   ]
  },
  {
   "cell_type": "markdown",
   "metadata": {},
   "source": [
    "# 04 -- Convolutional Autoencoder and Random Forest Classifier"
   ]
  },
  {
   "cell_type": "markdown",
   "metadata": {},
   "source": [
    "## Imports"
   ]
  },
  {
   "cell_type": "code",
   "execution_count": 2,
   "metadata": {},
   "outputs": [],
   "source": [
    "import time\n",
    "import numpy as np\n",
    "import torch\n",
    "import torch.nn.functional as F\n",
    "from torch.utils.data import DataLoader\n",
    "from torchvision import datasets\n",
    "from torchvision import transforms\n",
    "\n",
    "\n",
    "if torch.cuda.is_available():\n",
    "    torch.backends.cudnn.deterministic = True"
   ]
  },
  {
   "cell_type": "code",
   "execution_count": 3,
   "metadata": {},
   "outputs": [
    {
     "name": "stdout",
     "output_type": "stream",
     "text": [
      "Device: cuda:0\n",
      "Downloading http://yann.lecun.com/exdb/mnist/train-images-idx3-ubyte.gz to data/MNIST/raw/train-images-idx3-ubyte.gz\n"
     ]
    },
    {
     "data": {
      "application/vnd.jupyter.widget-view+json": {
       "model_id": "05996a6c79b8443f892afdff42eaf114",
       "version_major": 2,
       "version_minor": 0
      },
      "text/plain": [
       "HBox(children=(IntProgress(value=1, bar_style='info', max=1), HTML(value='')))"
      ]
     },
     "metadata": {},
     "output_type": "display_data"
    },
    {
     "name": "stdout",
     "output_type": "stream",
     "text": [
      "Extracting data/MNIST/raw/train-images-idx3-ubyte.gz to data/MNIST/raw\n",
      "Downloading http://yann.lecun.com/exdb/mnist/train-labels-idx1-ubyte.gz to data/MNIST/raw/train-labels-idx1-ubyte.gz\n"
     ]
    },
    {
     "data": {
      "application/vnd.jupyter.widget-view+json": {
       "model_id": "a821a4b1c1814337ac2de91aaf09c620",
       "version_major": 2,
       "version_minor": 0
      },
      "text/plain": [
       "HBox(children=(IntProgress(value=1, bar_style='info', max=1), HTML(value='')))"
      ]
     },
     "metadata": {},
     "output_type": "display_data"
    },
    {
     "name": "stdout",
     "output_type": "stream",
     "text": [
      "Extracting data/MNIST/raw/train-labels-idx1-ubyte.gz to data/MNIST/raw\n",
      "Downloading http://yann.lecun.com/exdb/mnist/t10k-images-idx3-ubyte.gz to data/MNIST/raw/t10k-images-idx3-ubyte.gz\n"
     ]
    },
    {
     "data": {
      "application/vnd.jupyter.widget-view+json": {
       "model_id": "4fb129aa391d4912851778b3a11255cc",
       "version_major": 2,
       "version_minor": 0
      },
      "text/plain": [
       "HBox(children=(IntProgress(value=1, bar_style='info', max=1), HTML(value='')))"
      ]
     },
     "metadata": {},
     "output_type": "display_data"
    },
    {
     "name": "stdout",
     "output_type": "stream",
     "text": [
      "Extracting data/MNIST/raw/t10k-images-idx3-ubyte.gz to data/MNIST/raw\n",
      "Downloading http://yann.lecun.com/exdb/mnist/t10k-labels-idx1-ubyte.gz to data/MNIST/raw/t10k-labels-idx1-ubyte.gz\n"
     ]
    },
    {
     "data": {
      "application/vnd.jupyter.widget-view+json": {
       "model_id": "3cb16d4a0ed3453d810b585bb46b573a",
       "version_major": 2,
       "version_minor": 0
      },
      "text/plain": [
       "HBox(children=(IntProgress(value=1, bar_style='info', max=1), HTML(value='')))"
      ]
     },
     "metadata": {},
     "output_type": "display_data"
    },
    {
     "name": "stdout",
     "output_type": "stream",
     "text": [
      "Extracting data/MNIST/raw/t10k-labels-idx1-ubyte.gz to data/MNIST/raw\n",
      "Processing...\n",
      "Done!\n",
      "\n",
      "\n",
      "Image batch dimensions: torch.Size([128, 1, 28, 28])\n",
      "Image label dimensions: torch.Size([128])\n"
     ]
    }
   ],
   "source": [
    "##########################\n",
    "### SETTINGS\n",
    "##########################\n",
    "\n",
    "# Device\n",
    "device = torch.device(\"cuda:0\" if torch.cuda.is_available() else \"cpu\")\n",
    "print('Device:', device)\n",
    "\n",
    "# Hyperparameters\n",
    "random_seed = 123\n",
    "learning_rate = 0.005\n",
    "num_epochs = 10\n",
    "batch_size = 128\n",
    "\n",
    "\n",
    "\n",
    "##########################\n",
    "### MNIST DATASET\n",
    "##########################\n",
    "\n",
    "\n",
    "custom_transform = transforms.Compose([transforms.ToTensor(),\n",
    "                                       transforms.Normalize((0.5,), (0.5,))])\n",
    "\n",
    "train_dataset = datasets.MNIST(root='data', \n",
    "                               train=True, \n",
    "                               transform=custom_transform,\n",
    "                               download=True)\n",
    "\n",
    "test_dataset = datasets.MNIST(root='data', \n",
    "                              train=False, \n",
    "                              transform=custom_transform)\n",
    "\n",
    "\n",
    "train_loader = DataLoader(dataset=train_dataset, \n",
    "                          batch_size=batch_size, \n",
    "                          shuffle=True)\n",
    "\n",
    "test_loader = DataLoader(dataset=test_dataset, \n",
    "                         batch_size=batch_size, \n",
    "                         shuffle=False)\n",
    "\n",
    "# Checking the dataset\n",
    "for images, labels in train_loader:  \n",
    "    print('Image batch dimensions:', images.shape)\n",
    "    print('Image label dimensions:', labels.shape)\n",
    "    break"
   ]
  },
  {
   "cell_type": "markdown",
   "metadata": {},
   "source": [
    "## Model"
   ]
  },
  {
   "cell_type": "code",
   "execution_count": 4,
   "metadata": {},
   "outputs": [],
   "source": [
    "##########################\n",
    "### MODEL\n",
    "##########################\n",
    "\n",
    "\n",
    "class ConvolutionalAutoencoder(torch.nn.Module):\n",
    "\n",
    "    def __init__(self):\n",
    "        super(ConvolutionalAutoencoder, self).__init__()\n",
    "        \n",
    "        # calculate same padding:\n",
    "        # (w - k + 2*p)/s + 1 = o\n",
    "        # => p = (s(o-1) - w + k)/2\n",
    "        \n",
    "        ### ENCODER\n",
    "        \n",
    "        # 28x28x1 => 28x28x4\n",
    "        self.conv_1 = torch.nn.Conv2d(in_channels=1,\n",
    "                                      out_channels=4,\n",
    "                                      kernel_size=(3, 3),\n",
    "                                      stride=(1, 1),\n",
    "                                      # (1(28-1) - 28 + 3) / 2 = 1\n",
    "                                      padding=1)\n",
    "        # 28x28x4 => 14x14x4\n",
    "        self.pool_1 = torch.nn.MaxPool2d(kernel_size=(2, 2),\n",
    "                                         stride=(2, 2),\n",
    "                                         # (2(14-1) - 28 + 2) / 2 = 0\n",
    "                                         padding=0)                                       \n",
    "        # 14x14x4 => 14x14x8\n",
    "        self.conv_2 = torch.nn.Conv2d(in_channels=4,\n",
    "                                      out_channels=8,\n",
    "                                      kernel_size=(3, 3),\n",
    "                                      stride=(1, 1),\n",
    "                                      # (1(14-1) - 14 + 3) / 2 = 1\n",
    "                                      padding=1)                 \n",
    "        # 14x14x8 => 7x7x8                             \n",
    "        self.pool_2 = torch.nn.MaxPool2d(kernel_size=(2, 2),\n",
    "                                         stride=(2, 2),\n",
    "                                         # (2(7-1) - 14 + 2) / 2 = 0\n",
    "                                         padding=0)\n",
    "        \n",
    "        ### DECODER\n",
    "                                         \n",
    "        # 7x7x8 => 14x14x8               \n",
    "        # Unpool\n",
    "\n",
    "        # 14x14x8 => 14x14x8\n",
    "        self.conv_3 = torch.nn.Conv2d(in_channels=8,\n",
    "                                      out_channels=4,\n",
    "                                      kernel_size=(3, 3),\n",
    "                                      stride=(1, 1),\n",
    "                                      # (1(14-1) - 14 + 3) / 2 = 1\n",
    "                                      padding=1)\n",
    "        # 14x14x4 => 28x28x4                            \n",
    "        # Unpool\n",
    "        \n",
    "        # 28x28x4 => 28x28x1\n",
    "        self.conv_4 = torch.nn.Conv2d(in_channels=4,\n",
    "                                      out_channels=1,\n",
    "                                      kernel_size=(3, 3),\n",
    "                                      stride=(1, 1),\n",
    "                                      # (1(28-1) - 28 + 3) / 2 = 1\n",
    "                                      padding=1)\n",
    "        \n",
    "        \n",
    "    def encoder(self, x):\n",
    "        x = self.conv_1(x)\n",
    "        x = F.leaky_relu(x)\n",
    "        x = self.pool_1(x)\n",
    "        x = self.conv_2(x)\n",
    "        x = F.leaky_relu(x)\n",
    "        x = self.pool_2(x)\n",
    "        return x\n",
    "    \n",
    "    def decoder(self, x):\n",
    "        x = F.interpolate(x, scale_factor=2, mode='nearest')\n",
    "        x = self.conv_3(x)\n",
    "        x = F.leaky_relu(x)\n",
    "        x = F.interpolate(x, scale_factor=2, mode='nearest')\n",
    "        x = self.conv_4(x)\n",
    "        return torch.tanh(x)\n",
    "        \n",
    "    def forward(self, x):\n",
    "        \n",
    "        ### ENCODER\n",
    "        x = self.encoder(x)\n",
    "        \n",
    "        ### DECODER\n",
    "        x = self.decoder(x)\n",
    "        return x\n",
    "\n",
    "    \n",
    "torch.manual_seed(random_seed)\n",
    "model = ConvolutionalAutoencoder()\n",
    "model = model.to(device)\n",
    "\n",
    "optimizer = torch.optim.Adam(model.parameters(), lr=learning_rate)  "
   ]
  },
  {
   "cell_type": "markdown",
   "metadata": {},
   "source": [
    "## Training"
   ]
  },
  {
   "cell_type": "code",
   "execution_count": 5,
   "metadata": {},
   "outputs": [
    {
     "name": "stdout",
     "output_type": "stream",
     "text": [
      "Epoch: 001/010 | Batch 000/469 | Cost: 0.9900\n",
      "Epoch: 001/010 | Batch 050/469 | Cost: 0.1433\n",
      "Epoch: 001/010 | Batch 100/469 | Cost: 0.0857\n",
      "Epoch: 001/010 | Batch 150/469 | Cost: 0.0628\n",
      "Epoch: 001/010 | Batch 200/469 | Cost: 0.0571\n",
      "Epoch: 001/010 | Batch 250/469 | Cost: 0.0528\n",
      "Epoch: 001/010 | Batch 300/469 | Cost: 0.0428\n",
      "Epoch: 001/010 | Batch 350/469 | Cost: 0.0430\n",
      "Epoch: 001/010 | Batch 400/469 | Cost: 0.0424\n",
      "Epoch: 001/010 | Batch 450/469 | Cost: 0.0362\n",
      "Time elapsed: 0.19 min\n",
      "Epoch: 002/010 | Batch 000/469 | Cost: 0.0371\n",
      "Epoch: 002/010 | Batch 050/469 | Cost: 0.0377\n",
      "Epoch: 002/010 | Batch 100/469 | Cost: 0.0364\n",
      "Epoch: 002/010 | Batch 150/469 | Cost: 0.0342\n",
      "Epoch: 002/010 | Batch 200/469 | Cost: 0.0312\n",
      "Epoch: 002/010 | Batch 250/469 | Cost: 0.0324\n",
      "Epoch: 002/010 | Batch 300/469 | Cost: 0.0317\n",
      "Epoch: 002/010 | Batch 350/469 | Cost: 0.0315\n",
      "Epoch: 002/010 | Batch 400/469 | Cost: 0.0298\n",
      "Epoch: 002/010 | Batch 450/469 | Cost: 0.0288\n",
      "Time elapsed: 0.38 min\n",
      "Epoch: 003/010 | Batch 000/469 | Cost: 0.0310\n",
      "Epoch: 003/010 | Batch 050/469 | Cost: 0.0308\n",
      "Epoch: 003/010 | Batch 100/469 | Cost: 0.0321\n",
      "Epoch: 003/010 | Batch 150/469 | Cost: 0.0282\n",
      "Epoch: 003/010 | Batch 200/469 | Cost: 0.0308\n",
      "Epoch: 003/010 | Batch 250/469 | Cost: 0.0287\n",
      "Epoch: 003/010 | Batch 300/469 | Cost: 0.0292\n",
      "Epoch: 003/010 | Batch 350/469 | Cost: 0.0282\n",
      "Epoch: 003/010 | Batch 400/469 | Cost: 0.0281\n",
      "Epoch: 003/010 | Batch 450/469 | Cost: 0.0287\n",
      "Time elapsed: 0.56 min\n",
      "Epoch: 004/010 | Batch 000/469 | Cost: 0.0289\n",
      "Epoch: 004/010 | Batch 050/469 | Cost: 0.0266\n",
      "Epoch: 004/010 | Batch 100/469 | Cost: 0.0260\n",
      "Epoch: 004/010 | Batch 150/469 | Cost: 0.0254\n",
      "Epoch: 004/010 | Batch 200/469 | Cost: 0.0302\n",
      "Epoch: 004/010 | Batch 250/469 | Cost: 0.0272\n",
      "Epoch: 004/010 | Batch 300/469 | Cost: 0.0265\n",
      "Epoch: 004/010 | Batch 350/469 | Cost: 0.0276\n",
      "Epoch: 004/010 | Batch 400/469 | Cost: 0.0260\n",
      "Epoch: 004/010 | Batch 450/469 | Cost: 0.0252\n",
      "Time elapsed: 0.75 min\n",
      "Epoch: 005/010 | Batch 000/469 | Cost: 0.0265\n",
      "Epoch: 005/010 | Batch 050/469 | Cost: 0.0290\n",
      "Epoch: 005/010 | Batch 100/469 | Cost: 0.0266\n",
      "Epoch: 005/010 | Batch 150/469 | Cost: 0.0285\n",
      "Epoch: 005/010 | Batch 200/469 | Cost: 0.0272\n",
      "Epoch: 005/010 | Batch 250/469 | Cost: 0.0257\n",
      "Epoch: 005/010 | Batch 300/469 | Cost: 0.0246\n",
      "Epoch: 005/010 | Batch 350/469 | Cost: 0.0243\n",
      "Epoch: 005/010 | Batch 400/469 | Cost: 0.0267\n",
      "Epoch: 005/010 | Batch 450/469 | Cost: 0.0264\n",
      "Time elapsed: 0.93 min\n",
      "Epoch: 006/010 | Batch 000/469 | Cost: 0.0244\n",
      "Epoch: 006/010 | Batch 050/469 | Cost: 0.0246\n",
      "Epoch: 006/010 | Batch 100/469 | Cost: 0.0235\n",
      "Epoch: 006/010 | Batch 150/469 | Cost: 0.0255\n",
      "Epoch: 006/010 | Batch 200/469 | Cost: 0.0254\n",
      "Epoch: 006/010 | Batch 250/469 | Cost: 0.0234\n",
      "Epoch: 006/010 | Batch 300/469 | Cost: 0.0248\n",
      "Epoch: 006/010 | Batch 350/469 | Cost: 0.0257\n",
      "Epoch: 006/010 | Batch 400/469 | Cost: 0.0226\n",
      "Epoch: 006/010 | Batch 450/469 | Cost: 0.0235\n",
      "Time elapsed: 1.12 min\n",
      "Epoch: 007/010 | Batch 000/469 | Cost: 0.0254\n",
      "Epoch: 007/010 | Batch 050/469 | Cost: 0.0235\n",
      "Epoch: 007/010 | Batch 100/469 | Cost: 0.0243\n",
      "Epoch: 007/010 | Batch 150/469 | Cost: 0.0241\n",
      "Epoch: 007/010 | Batch 200/469 | Cost: 0.0238\n",
      "Epoch: 007/010 | Batch 250/469 | Cost: 0.0244\n",
      "Epoch: 007/010 | Batch 300/469 | Cost: 0.0232\n",
      "Epoch: 007/010 | Batch 350/469 | Cost: 0.0231\n",
      "Epoch: 007/010 | Batch 400/469 | Cost: 0.0246\n",
      "Epoch: 007/010 | Batch 450/469 | Cost: 0.0227\n",
      "Time elapsed: 1.30 min\n",
      "Epoch: 008/010 | Batch 000/469 | Cost: 0.0227\n",
      "Epoch: 008/010 | Batch 050/469 | Cost: 0.0237\n",
      "Epoch: 008/010 | Batch 100/469 | Cost: 0.0235\n",
      "Epoch: 008/010 | Batch 150/469 | Cost: 0.0239\n",
      "Epoch: 008/010 | Batch 200/469 | Cost: 0.0218\n",
      "Epoch: 008/010 | Batch 250/469 | Cost: 0.0252\n",
      "Epoch: 008/010 | Batch 300/469 | Cost: 0.0231\n",
      "Epoch: 008/010 | Batch 350/469 | Cost: 0.0243\n",
      "Epoch: 008/010 | Batch 400/469 | Cost: 0.0238\n",
      "Epoch: 008/010 | Batch 450/469 | Cost: 0.0252\n",
      "Time elapsed: 1.49 min\n",
      "Epoch: 009/010 | Batch 000/469 | Cost: 0.0258\n",
      "Epoch: 009/010 | Batch 050/469 | Cost: 0.0228\n",
      "Epoch: 009/010 | Batch 100/469 | Cost: 0.0235\n",
      "Epoch: 009/010 | Batch 150/469 | Cost: 0.0220\n",
      "Epoch: 009/010 | Batch 200/469 | Cost: 0.0227\n",
      "Epoch: 009/010 | Batch 250/469 | Cost: 0.0211\n",
      "Epoch: 009/010 | Batch 300/469 | Cost: 0.0237\n",
      "Epoch: 009/010 | Batch 350/469 | Cost: 0.0235\n",
      "Epoch: 009/010 | Batch 400/469 | Cost: 0.0240\n",
      "Epoch: 009/010 | Batch 450/469 | Cost: 0.0256\n",
      "Time elapsed: 1.67 min\n",
      "Epoch: 010/010 | Batch 000/469 | Cost: 0.0222\n",
      "Epoch: 010/010 | Batch 050/469 | Cost: 0.0217\n",
      "Epoch: 010/010 | Batch 100/469 | Cost: 0.0231\n",
      "Epoch: 010/010 | Batch 150/469 | Cost: 0.0228\n",
      "Epoch: 010/010 | Batch 200/469 | Cost: 0.0234\n",
      "Epoch: 010/010 | Batch 250/469 | Cost: 0.0227\n",
      "Epoch: 010/010 | Batch 300/469 | Cost: 0.0234\n",
      "Epoch: 010/010 | Batch 350/469 | Cost: 0.0241\n",
      "Epoch: 010/010 | Batch 400/469 | Cost: 0.0229\n",
      "Epoch: 010/010 | Batch 450/469 | Cost: 0.0226\n",
      "Time elapsed: 1.86 min\n",
      "Total Training Time: 1.86 min\n"
     ]
    }
   ],
   "source": [
    "start_time = time.time()\n",
    "for epoch in range(num_epochs):\n",
    "    for batch_idx, (features, targets) in enumerate(train_loader):\n",
    "        \n",
    "        # don't need labels, only the images (features)\n",
    "        features = features.to(device)\n",
    "\n",
    "        ### FORWARD AND BACK PROP\n",
    "        decoded = model(features)\n",
    "        cost = F.mse_loss(decoded, features)\n",
    "        optimizer.zero_grad()\n",
    "        \n",
    "        cost.backward()\n",
    "        \n",
    "        ### UPDATE MODEL PARAMETERS\n",
    "        optimizer.step()\n",
    "        \n",
    "        ### LOGGING\n",
    "        if not batch_idx % 50:\n",
    "            print ('Epoch: %03d/%03d | Batch %03d/%03d | Cost: %.4f' \n",
    "                   %(epoch+1, num_epochs, batch_idx, \n",
    "                     len(train_loader), cost))\n",
    "            \n",
    "    print('Time elapsed: %.2f min' % ((time.time() - start_time)/60))\n",
    "    \n",
    "print('Total Training Time: %.2f min' % ((time.time() - start_time)/60))"
   ]
  },
  {
   "cell_type": "markdown",
   "metadata": {},
   "source": [
    "## Evaluation"
   ]
  },
  {
   "cell_type": "code",
   "execution_count": 6,
   "metadata": {},
   "outputs": [
    {
     "data": {
      "image/png": "[encoded data removed]",
      "text/plain": [
       "<Figure size 1440x180 with 30 Axes>"
      ]
     },
     "metadata": {
      "needs_background": "light"
     },
     "output_type": "display_data"
    }
   ],
   "source": [
    "%matplotlib inline\n",
    "import matplotlib.pyplot as plt\n",
    "\n",
    "##########################\n",
    "### VISUALIZATION\n",
    "##########################\n",
    "\n",
    "n_images = 15\n",
    "image_width = 28\n",
    "\n",
    "fig, axes = plt.subplots(nrows=2, ncols=n_images, \n",
    "                         sharex=True, sharey=True, figsize=(20, 2.5))\n",
    "orig_images = features[:n_images]\n",
    "decoded_images = decoded[:n_images]\n",
    "\n",
    "for i in range(n_images):\n",
    "    for ax, img in zip(axes, [orig_images, decoded_images]):\n",
    "        curr_img = img[i].detach().to(torch.device('cpu'))\n",
    "        ax[i].imshow(curr_img.view((image_width, image_width)), cmap='binary')"
   ]
  },
  {
   "cell_type": "code",
   "execution_count": 7,
   "metadata": {},
   "outputs": [
    {
     "name": "stdout",
     "output_type": "stream",
     "text": [
      "numpy       1.17.4\n",
      "matplotlib  3.1.0\n",
      "torchvision 0.5.0\n",
      "torch       1.4.0\n",
      "\n"
     ]
    }
   ],
   "source": [
    "%watermark -iv"
   ]
  },
  {
   "cell_type": "markdown",
   "metadata": {},
   "source": [
    "# Classifier"
   ]
  },
  {
   "cell_type": "code",
   "execution_count": 8,
   "metadata": {},
   "outputs": [
    {
     "name": "stdout",
     "output_type": "stream",
     "text": [
      "Image batch dimensions: torch.Size([15, 1, 28, 28])\n",
      "Image label dimensions: torch.Size([15])\n"
     ]
    },
    {
     "data": {
      "image/png": "[encoded data removed]",
      "text/plain": [
       "<Figure size 1440x180 with 30 Axes>"
      ]
     },
     "metadata": {
      "needs_background": "light"
     },
     "output_type": "display_data"
    }
   ],
   "source": [
    "test_loader = DataLoader(dataset=test_dataset, \n",
    "                         batch_size=15, \n",
    "                         shuffle=True)\n",
    "\n",
    "# Checking the dataset\n",
    "for images, labels in test_loader:  \n",
    "    print('Image batch dimensions:', images.shape)\n",
    "    print('Image label dimensions:', labels.shape)\n",
    "    break\n",
    "    \n",
    "# =============================================================\n",
    "\n",
    "n_images = 15\n",
    "image_width = 28\n",
    "\n",
    "fig, axes = plt.subplots(nrows=2, ncols=n_images, \n",
    "                         sharex=True, sharey=True, figsize=(20, 2.5))\n",
    "orig_images = features[:n_images]\n",
    "decoded_images = decoded[:n_images]\n",
    "\n",
    "for i in range(n_images):\n",
    "    for ax, img in zip(axes, [orig_images, decoded_images]):\n",
    "        curr_img = img[i].detach().to(torch.device('cpu'))\n",
    "        ax[i].imshow(curr_img.view((image_width, image_width)), cmap='binary')"
   ]
  },
  {
   "cell_type": "markdown",
   "metadata": {},
   "source": [
    "## Scikit-learn Classifier"
   ]
  },
  {
   "cell_type": "markdown",
   "metadata": {},
   "source": [
    "### On Original MNIST"
   ]
  },
  {
   "cell_type": "code",
   "execution_count": 9,
   "metadata": {},
   "outputs": [],
   "source": [
    "import numpy as np\n",
    "from sklearn.ensemble import RandomForestClassifier\n",
    "\n",
    "\n",
    "train_loader = DataLoader(dataset=train_dataset, \n",
    "                          batch_size=60000, \n",
    "                          shuffle=True)\n",
    "\n",
    "test_loader = DataLoader(dataset=test_dataset, \n",
    "                          batch_size=10000, \n",
    "                          shuffle=False)"
   ]
  },
  {
   "cell_type": "code",
   "execution_count": 10,
   "metadata": {},
   "outputs": [
    {
     "name": "stdout",
     "output_type": "stream",
     "text": [
      "Image batch dimensions: torch.Size([60000, 1, 28, 28])\n",
      "Image label dimensions: torch.Size([60000])\n",
      "Image batch dimensions: torch.Size([10000, 1, 28, 28])\n",
      "Image label dimensions: torch.Size([10000])\n"
     ]
    }
   ],
   "source": [
    "for images, labels in train_loader:  \n",
    "    print('Image batch dimensions:', images.shape)\n",
    "    print('Image label dimensions:', labels.shape)\n",
    "    break\n",
    "\n",
    "X_train = np.array(images.reshape(60000, 28*28))\n",
    "y_train = np.array(labels)\n",
    "\n",
    "\n",
    "for images, labels in test_loader:  \n",
    "    print('Image batch dimensions:', images.shape)\n",
    "    print('Image label dimensions:', labels.shape)\n",
    "    break\n",
    "\n",
    "X_test = np.array(images.reshape(10000, 28*28))\n",
    "y_test = np.array(labels)"
   ]
  },
  {
   "cell_type": "code",
   "execution_count": 11,
   "metadata": {},
   "outputs": [
    {
     "name": "stdout",
     "output_type": "stream",
     "text": [
      "Train Accuracy: 100.0%\n",
      "Test Accuracy: 97.13000000000001%\n"
     ]
    }
   ],
   "source": [
    "rf = RandomForestClassifier(n_estimators=500, n_jobs=-1).fit(X_train, y_train)\n",
    "print(f'Train Accuracy: {rf.score(X_train, y_train)*100}%')\n",
    "print(f'Test Accuracy: {rf.score(X_test, y_test)*100}%')"
   ]
  },
  {
   "cell_type": "markdown",
   "metadata": {},
   "source": [
    "### Using PCA"
   ]
  },
  {
   "cell_type": "code",
   "execution_count": 12,
   "metadata": {},
   "outputs": [],
   "source": [
    "from sklearn.decomposition import PCA\n",
    "\n",
    "pca = PCA(n_components=7*7*8)  # same size as autoencoder latent space\n",
    "X_train_pca = pca.fit_transform(X_train)\n",
    "X_test_pca = pca.transform(X_test)"
   ]
  },
  {
   "cell_type": "code",
   "execution_count": 13,
   "metadata": {},
   "outputs": [
    {
     "name": "stdout",
     "output_type": "stream",
     "text": [
      "Train Accuracy: 100.0%\n",
      "Test Accuracy: 94.45%\n"
     ]
    }
   ],
   "source": [
    "rf = RandomForestClassifier(n_estimators=500, n_jobs=-1).fit(X_train_pca, y_train)\n",
    "print(f'Train Accuracy: {rf.score(X_train_pca, y_train)*100}%')\n",
    "print(f'Test Accuracy: {rf.score(X_test_pca, y_test)*100}%')"
   ]
  },
  {
   "cell_type": "markdown",
   "metadata": {},
   "source": [
    "### Compressed MNIST"
   ]
  },
  {
   "cell_type": "code",
   "execution_count": 14,
   "metadata": {},
   "outputs": [],
   "source": [
    "train_loader = DataLoader(dataset=train_dataset, \n",
    "                          batch_size=1000, \n",
    "                          shuffle=True)\n",
    "\n",
    "test_loader = DataLoader(dataset=test_dataset, \n",
    "                          batch_size=1000, \n",
    "                          shuffle=False)"
   ]
  },
  {
   "cell_type": "code",
   "execution_count": 16,
   "metadata": {},
   "outputs": [],
   "source": [
    "X_train_compr = np.ones((60000, 7*7*8))\n",
    "y_train = np.ones(60000)\n",
    "\n",
    "start_idx = 0\n",
    "\n",
    "for idx, (images, labels) in enumerate(train_loader): \n",
    "    features = images.to(device)\n",
    "    \n",
    "    with torch.no_grad():\n",
    "        encoded = model.encoder(features)\n",
    "    \n",
    "    X_train_compr[start_idx:start_idx+1000] = encoded.view(-1, 7*7*8).to(torch.device('cpu')).numpy()\n",
    "    y_train[start_idx:start_idx+1000] = labels\n",
    "    start_idx += 1000"
   ]
  },
  {
   "cell_type": "code",
   "execution_count": 17,
   "metadata": {},
   "outputs": [],
   "source": [
    "X_test_compr = np.ones((10000, 7*7*8))\n",
    "y_test = np.ones(10000)\n",
    "\n",
    "start_idx = 0\n",
    "\n",
    "for idx, (images, labels) in enumerate(test_loader): \n",
    "    features = images.to(device)\n",
    "    \n",
    "    with torch.no_grad():\n",
    "        encoded = model.encoder(features)\n",
    "    \n",
    "    X_test_compr[start_idx:start_idx+1000] = encoded.view(-1, 7*7*8).to(torch.device('cpu')).numpy()\n",
    "    y_test[start_idx:start_idx+1000] = labels\n",
    "    start_idx += 1000"
   ]
  },
  {
   "cell_type": "code",
   "execution_count": 18,
   "metadata": {},
   "outputs": [
    {
     "name": "stdout",
     "output_type": "stream",
     "text": [
      "Train Accuracy: 100.0%\n",
      "Test Accuracy: 96.27%\n"
     ]
    }
   ],
   "source": [
    "rf = RandomForestClassifier(n_estimators=500, n_jobs=-1).fit(X_train_compr, y_train)\n",
    "print(f'Train Accuracy: {rf.score(X_train_compr, y_train)*100}%')\n",
    "print(f'Test Accuracy: {rf.score(X_test_compr, y_test)*100}%')"
   ]
  },
  {
   "cell_type": "code",
   "execution_count": 19,
   "metadata": {},
   "outputs": [
    {
     "name": "stdout",
     "output_type": "stream",
     "text": [
      "numpy       1.17.4\n",
      "matplotlib  3.1.0\n",
      "torchvision 0.5.0\n",
      "torch       1.4.0\n",
      "\n"
     ]
    }
   ],
   "source": [
    "%watermark -iv"
   ]
  }
 ],
 "metadata": {
  "kernelspec": {
   "display_name": "Python 3",
   "language": "python",
   "name": "python3"
  },
  "language_info": {
   "codemirror_mode": {
    "name": "ipython",
    "version": 3
   },
   "file_extension": ".py",
   "mimetype": "text/x-python",
   "name": "python",
   "nbconvert_exporter": "python",
   "pygments_lexer": "ipython3",
   "version": "3.7.3"
  },
  "toc": {
   "nav_menu": {},
   "number_sections": true,
   "sideBar": true,
   "skip_h1_title": false,
   "title_cell": "Table of Contents",
   "title_sidebar": "Contents",
   "toc_cell": false,
   "toc_position": {},
   "toc_section_display": true,
   "toc_window_display": false
  }
 },
 "nbformat": 4,
 "nbformat_minor": 4
}
