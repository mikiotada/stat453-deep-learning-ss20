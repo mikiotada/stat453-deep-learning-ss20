{
 "cells": [
  {
   "cell_type": "markdown",
   "metadata": {},
   "source": [
    "STAT 453: Deep Learning (Spring 2020)  \n",
    "\n",
    "Instructor: Sebastian Raschka (sraschka@wisc.edu)  \n",
    "Course website: http://pages.stat.wisc.edu/~sraschka/teaching/stat453-ss2020/  \n",
    "GitHub repository: https://github.com/rasbt/stat453-deep-learning-ss20"
   ]
  },
  {
   "cell_type": "code",
   "execution_count": 1,
   "metadata": {},
   "outputs": [
    {
     "name": "stdout",
     "output_type": "stream",
     "text": [
      "Sebastian Raschka \n",
      "\n",
      "CPython 3.7.3\n",
      "IPython 7.9.0\n",
      "\n",
      "torch 1.4.0\n"
     ]
    }
   ],
   "source": [
    "%load_ext watermark\n",
    "%watermark -a 'Sebastian Raschka' -v -p torch"
   ]
  },
  {
   "cell_type": "markdown",
   "metadata": {},
   "source": [
    "- Runs on CPU or GPU (if available)"
   ]
  },
  {
   "cell_type": "markdown",
   "metadata": {},
   "source": [
    "# 01 -- Fully-Connected Autoencoder on MNIST"
   ]
  },
  {
   "cell_type": "markdown",
   "metadata": {},
   "source": [
    "A simple, single-layer autoencoder that compresses 768-pixel MNIST images into 32-pixel vectors (32-times smaller representations)."
   ]
  },
  {
   "cell_type": "markdown",
   "metadata": {},
   "source": [
    "## Imports"
   ]
  },
  {
   "cell_type": "code",
   "execution_count": 2,
   "metadata": {},
   "outputs": [
    {
     "name": "stdout",
     "output_type": "stream",
     "text": [
      "Device: cuda:0\n",
      "Image batch dimensions: torch.Size([256, 1, 28, 28])\n",
      "Image label dimensions: torch.Size([256])\n"
     ]
    }
   ],
   "source": [
    "import time\n",
    "import numpy as np\n",
    "import torch\n",
    "import torch.nn.functional as F\n",
    "from torchvision import datasets\n",
    "from torchvision import transforms\n",
    "from torch.utils.data import DataLoader\n",
    "\n",
    "if torch.cuda.is_available():\n",
    "    torch.backends.cudnn.deterministic = True\n",
    "\n",
    "\n",
    "##########################\n",
    "### SETTINGS\n",
    "##########################\n",
    "\n",
    "# Device\n",
    "device = torch.device(\"cuda:0\" if torch.cuda.is_available() else \"cpu\")\n",
    "print('Device:', device)\n",
    "\n",
    "# Hyperparameters\n",
    "random_seed = 123\n",
    "learning_rate = 0.01\n",
    "num_epochs = 15\n",
    "batch_size = 256\n",
    "\n",
    "# Architecture\n",
    "num_features = 784\n",
    "num_hidden_1 = 32\n",
    "\n",
    "\n",
    "##########################\n",
    "### MNIST DATASET\n",
    "##########################\n",
    "\n",
    "\n",
    "custom_transform = transforms.Compose([transforms.ToTensor(),\n",
    "                                       transforms.Normalize((0.5,), (0.5,))])\n",
    "\n",
    "train_dataset = datasets.MNIST(root='data', \n",
    "                               train=True, \n",
    "                               transform=custom_transform,\n",
    "                               download=True)a\n",
    "\n",
    "test_dataset = datasets.MNIST(root='data', \n",
    "                              train=False, \n",
    "                              transform=custom_transform)\n",
    "\n",
    "\n",
    "train_loader = DataLoader(dataset=train_dataset, \n",
    "                          batch_size=batch_size, \n",
    "                          shuffle=True)\n",
    "\n",
    "test_loader = DataLoader(dataset=test_dataset, \n",
    "                         batch_size=batch_size, \n",
    "                         shuffle=False)\n",
    "\n",
    "# Checking the dataset\n",
    "for images, labels in train_loader:  \n",
    "    print('Image batch dimensions:', images.shape)\n",
    "    print('Image label dimensions:', labels.shape)\n",
    "    break"
   ]
  },
  {
   "cell_type": "markdown",
   "metadata": {},
   "source": [
    "## Model"
   ]
  },
  {
   "cell_type": "code",
   "execution_count": 3,
   "metadata": {},
   "outputs": [],
   "source": [
    "##########################\n",
    "### MODEL\n",
    "##########################\n",
    "\n",
    "class Autoencoder(torch.nn.Module):\n",
    "\n",
    "    def __init__(self, num_features):\n",
    "        super(Autoencoder, self).__init__()\n",
    "        \n",
    "        ### ENCODER\n",
    "        self.linear_1 = torch.nn.Linear(num_features, num_hidden_1)\n",
    "        # The following to lones are not necessary, \n",
    "        # but used here to demonstrate how to access the weights\n",
    "        # and use a different weight initialization.\n",
    "        # By default, PyTorch uses Xavier/Glorot initialization, which\n",
    "        # should usually be preferred.\n",
    "        self.linear_1.weight.detach().normal_(0.0, 0.1)\n",
    "        self.linear_1.bias.detach().zero_()\n",
    "        \n",
    "        ### DECODER\n",
    "        self.linear_2 = torch.nn.Linear(num_hidden_1, num_features)\n",
    "        self.linear_1.weight.detach().normal_(0.0, 0.1)\n",
    "        self.linear_1.bias.detach().zero_()\n",
    "        \n",
    "\n",
    "    def forward(self, x):\n",
    "        \n",
    "        ### ENCODER\n",
    "        encoded = self.linear_1(x)\n",
    "        encoded = F.leaky_relu(encoded)\n",
    "        \n",
    "        ### DECODER\n",
    "        logits = self.linear_2(encoded)\n",
    "        decoded = torch.tanh(logits)\n",
    "        \n",
    "        return decoded\n",
    "\n",
    "    \n",
    "torch.manual_seed(random_seed)\n",
    "model = Autoencoder(num_features=num_features)\n",
    "model = model.to(device)\n",
    "\n",
    "optimizer = torch.optim.Adam(model.parameters(), lr=learning_rate)  "
   ]
  },
  {
   "cell_type": "markdown",
   "metadata": {},
   "source": [
    "## Training"
   ]
  },
  {
   "cell_type": "code",
   "execution_count": 4,
   "metadata": {},
   "outputs": [
    {
     "name": "stdout",
     "output_type": "stream",
     "text": [
      "Epoch: 001/015 | Batch 000/235 | Cost: 1.4234\n",
      "Epoch: 001/015 | Batch 050/235 | Cost: 0.2128\n",
      "Epoch: 001/015 | Batch 100/235 | Cost: 0.1655\n",
      "Epoch: 001/015 | Batch 150/235 | Cost: 0.1316\n",
      "Epoch: 001/015 | Batch 200/235 | Cost: 0.1279\n",
      "Time elapsed: 0.17 min\n",
      "Epoch: 002/015 | Batch 000/235 | Cost: 0.1196\n",
      "Epoch: 002/015 | Batch 050/235 | Cost: 0.1084\n",
      "Epoch: 002/015 | Batch 100/235 | Cost: 0.1035\n",
      "Epoch: 002/015 | Batch 150/235 | Cost: 0.0966\n",
      "Epoch: 002/015 | Batch 200/235 | Cost: 0.0925\n",
      "Time elapsed: 0.34 min\n",
      "Epoch: 003/015 | Batch 000/235 | Cost: 0.0888\n",
      "Epoch: 003/015 | Batch 050/235 | Cost: 0.0826\n",
      "Epoch: 003/015 | Batch 100/235 | Cost: 0.0814\n",
      "Epoch: 003/015 | Batch 150/235 | Cost: 0.0792\n",
      "Epoch: 003/015 | Batch 200/235 | Cost: 0.0749\n",
      "Time elapsed: 0.51 min\n",
      "Epoch: 004/015 | Batch 000/235 | Cost: 0.0723\n",
      "Epoch: 004/015 | Batch 050/235 | Cost: 0.0736\n",
      "Epoch: 004/015 | Batch 100/235 | Cost: 0.0712\n",
      "Epoch: 004/015 | Batch 150/235 | Cost: 0.0704\n",
      "Epoch: 004/015 | Batch 200/235 | Cost: 0.0612\n",
      "Time elapsed: 0.68 min\n",
      "Epoch: 005/015 | Batch 000/235 | Cost: 0.0668\n",
      "Epoch: 005/015 | Batch 050/235 | Cost: 0.0641\n",
      "Epoch: 005/015 | Batch 100/235 | Cost: 0.0642\n",
      "Epoch: 005/015 | Batch 150/235 | Cost: 0.0630\n",
      "Epoch: 005/015 | Batch 200/235 | Cost: 0.0619\n",
      "Time elapsed: 0.85 min\n",
      "Epoch: 006/015 | Batch 000/235 | Cost: 0.0612\n",
      "Epoch: 006/015 | Batch 050/235 | Cost: 0.0570\n",
      "Epoch: 006/015 | Batch 100/235 | Cost: 0.0547\n",
      "Epoch: 006/015 | Batch 150/235 | Cost: 0.0593\n",
      "Epoch: 006/015 | Batch 200/235 | Cost: 0.0572\n",
      "Time elapsed: 1.01 min\n",
      "Epoch: 007/015 | Batch 000/235 | Cost: 0.0567\n",
      "Epoch: 007/015 | Batch 050/235 | Cost: 0.0567\n",
      "Epoch: 007/015 | Batch 100/235 | Cost: 0.0540\n",
      "Epoch: 007/015 | Batch 150/235 | Cost: 0.0569\n",
      "Epoch: 007/015 | Batch 200/235 | Cost: 0.0548\n",
      "Time elapsed: 1.18 min\n",
      "Epoch: 008/015 | Batch 000/235 | Cost: 0.0531\n",
      "Epoch: 008/015 | Batch 050/235 | Cost: 0.0551\n",
      "Epoch: 008/015 | Batch 100/235 | Cost: 0.0529\n",
      "Epoch: 008/015 | Batch 150/235 | Cost: 0.0531\n",
      "Epoch: 008/015 | Batch 200/235 | Cost: 0.0514\n",
      "Time elapsed: 1.35 min\n",
      "Epoch: 009/015 | Batch 000/235 | Cost: 0.0497\n",
      "Epoch: 009/015 | Batch 050/235 | Cost: 0.0516\n",
      "Epoch: 009/015 | Batch 100/235 | Cost: 0.0510\n",
      "Epoch: 009/015 | Batch 150/235 | Cost: 0.0493\n",
      "Epoch: 009/015 | Batch 200/235 | Cost: 0.0505\n",
      "Time elapsed: 1.52 min\n",
      "Epoch: 010/015 | Batch 000/235 | Cost: 0.0499\n",
      "Epoch: 010/015 | Batch 050/235 | Cost: 0.0520\n",
      "Epoch: 010/015 | Batch 100/235 | Cost: 0.0526\n",
      "Epoch: 010/015 | Batch 150/235 | Cost: 0.0516\n",
      "Epoch: 010/015 | Batch 200/235 | Cost: 0.0509\n",
      "Time elapsed: 1.69 min\n",
      "Epoch: 011/015 | Batch 000/235 | Cost: 0.0514\n",
      "Epoch: 011/015 | Batch 050/235 | Cost: 0.0471\n",
      "Epoch: 011/015 | Batch 100/235 | Cost: 0.0487\n",
      "Epoch: 011/015 | Batch 150/235 | Cost: 0.0505\n",
      "Epoch: 011/015 | Batch 200/235 | Cost: 0.0473\n",
      "Time elapsed: 1.86 min\n",
      "Epoch: 012/015 | Batch 000/235 | Cost: 0.0467\n",
      "Epoch: 012/015 | Batch 050/235 | Cost: 0.0496\n",
      "Epoch: 012/015 | Batch 100/235 | Cost: 0.0508\n",
      "Epoch: 012/015 | Batch 150/235 | Cost: 0.0479\n",
      "Epoch: 012/015 | Batch 200/235 | Cost: 0.0449\n",
      "Time elapsed: 2.02 min\n",
      "Epoch: 013/015 | Batch 000/235 | Cost: 0.0496\n",
      "Epoch: 013/015 | Batch 050/235 | Cost: 0.0466\n",
      "Epoch: 013/015 | Batch 100/235 | Cost: 0.0474\n",
      "Epoch: 013/015 | Batch 150/235 | Cost: 0.0472\n",
      "Epoch: 013/015 | Batch 200/235 | Cost: 0.0479\n",
      "Time elapsed: 2.19 min\n",
      "Epoch: 014/015 | Batch 000/235 | Cost: 0.0460\n",
      "Epoch: 014/015 | Batch 050/235 | Cost: 0.0445\n",
      "Epoch: 014/015 | Batch 100/235 | Cost: 0.0483\n",
      "Epoch: 014/015 | Batch 150/235 | Cost: 0.0473\n",
      "Epoch: 014/015 | Batch 200/235 | Cost: 0.0488\n",
      "Time elapsed: 2.36 min\n",
      "Epoch: 015/015 | Batch 000/235 | Cost: 0.0475\n",
      "Epoch: 015/015 | Batch 050/235 | Cost: 0.0464\n",
      "Epoch: 015/015 | Batch 100/235 | Cost: 0.0487\n",
      "Epoch: 015/015 | Batch 150/235 | Cost: 0.0465\n",
      "Epoch: 015/015 | Batch 200/235 | Cost: 0.0480\n",
      "Time elapsed: 2.53 min\n",
      "Total Training Time: 2.53 min\n"
     ]
    }
   ],
   "source": [
    "start_time = time.time()\n",
    "for epoch in range(num_epochs):\n",
    "    for batch_idx, (features, targets) in enumerate(train_loader):\n",
    "        \n",
    "        # don't need labels, only the images (features)\n",
    "        features = features.view(-1, 28*28).to(device)\n",
    "            \n",
    "        ### FORWARD AND BACK PROP\n",
    "        decoded = model(features)\n",
    "        cost = F.mse_loss(decoded, features)\n",
    "        optimizer.zero_grad()\n",
    "        \n",
    "        cost.backward()\n",
    "        \n",
    "        ### UPDATE MODEL PARAMETERS\n",
    "        optimizer.step()\n",
    "        \n",
    "        ### LOGGING\n",
    "        if not batch_idx % 50:\n",
    "            print ('Epoch: %03d/%03d | Batch %03d/%03d | Cost: %.4f' \n",
    "                   %(epoch+1, num_epochs, batch_idx, \n",
    "                     len(train_loader), cost))\n",
    "            \n",
    "    print('Time elapsed: %.2f min' % ((time.time() - start_time)/60))\n",
    "    \n",
    "print('Total Training Time: %.2f min' % ((time.time() - start_time)/60))"
   ]
  },
  {
   "cell_type": "markdown",
   "metadata": {},
   "source": [
    "## Evaluation"
   ]
  },
  {
   "cell_type": "code",
   "execution_count": 5,
   "metadata": {},
   "outputs": [
    {
     "data": {
      "image/png": "[encoded data removed]",
      "text/plain": [
       "<Figure size 1440x180 with 30 Axes>"
      ]
     },
     "metadata": {
      "needs_background": "light"
     },
     "output_type": "display_data"
    }
   ],
   "source": [
    "%matplotlib inline\n",
    "import matplotlib.pyplot as plt\n",
    "\n",
    "##########################\n",
    "### VISUALIZATION\n",
    "##########################\n",
    "\n",
    "n_images = 15\n",
    "image_width = 28\n",
    "\n",
    "fig, axes = plt.subplots(nrows=2, ncols=n_images, \n",
    "                         sharex=True, sharey=True, figsize=(20, 2.5))\n",
    "\n",
    "orig_images = features[:n_images]\n",
    "decoded_images = decoded[:n_images]\n",
    "\n",
    "for i in range(n_images):\n",
    "    for ax, img in zip(axes, [orig_images, decoded_images]):\n",
    "        curr_img = img[i].detach().to(torch.device('cpu'))\n",
    "        ax[i].imshow(curr_img.view((image_width, image_width)), cmap='binary')"
   ]
  },
  {
   "cell_type": "code",
   "execution_count": 6,
   "metadata": {},
   "outputs": [
    {
     "name": "stdout",
     "output_type": "stream",
     "text": [
      "numpy       1.17.4\n",
      "torchvision 0.5.0\n",
      "torch       1.4.0\n",
      "matplotlib  3.1.0\n",
      "\n"
     ]
    }
   ],
   "source": [
    "%watermark -iv"
   ]
  }
 ],
 "metadata": {
  "kernelspec": {
   "display_name": "Python 3",
   "language": "python",
   "name": "python3"
  },
  "language_info": {
   "codemirror_mode": {
    "name": "ipython",
    "version": 3
   },
   "file_extension": ".py",
   "mimetype": "text/x-python",
   "name": "python",
   "nbconvert_exporter": "python",
   "pygments_lexer": "ipython3",
   "version": "3.7.3"
  },
  "toc": {
   "nav_menu": {},
   "number_sections": true,
   "sideBar": true,
   "skip_h1_title": false,
   "title_cell": "Table of Contents",
   "title_sidebar": "Contents",
   "toc_cell": false,
   "toc_position": {},
   "toc_section_display": true,
   "toc_window_display": true
  }
 },
 "nbformat": 4,
 "nbformat_minor": 4
}
