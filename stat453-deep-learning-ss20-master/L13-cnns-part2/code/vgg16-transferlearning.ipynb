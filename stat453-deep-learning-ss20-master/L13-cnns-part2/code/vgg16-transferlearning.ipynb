{
 "cells": [
  {
   "cell_type": "markdown",
   "metadata": {},
   "source": [
    "STAT 453: Deep Learning (Spring 2020)\n",
    "Instructor: Sebastian Raschka (sraschka@wisc.edu)\n",
    "- Course website: http://pages.stat.wisc.edu/~sraschka/teaching/stat453-ss2020/ \n",
    "- GitHub repository: https://github.com/rasbt/stat453-deep-learning-ss20"
   ]
  },
  {
   "cell_type": "markdown",
   "metadata": {},
   "source": [
    "# Transfer Learning Example"
   ]
  },
  {
   "cell_type": "code",
   "execution_count": 1,
   "metadata": {},
   "outputs": [
    {
     "name": "stdout",
     "output_type": "stream",
     "text": [
      "Sebastian Raschka \n",
      "\n",
      "CPython 3.7.3\n",
      "IPython 7.9.0\n",
      "\n",
      "torch 1.4.0\n",
      "torchvision 0.5.0\n"
     ]
    }
   ],
   "source": [
    "%load_ext watermark\n",
    "%watermark -a 'Sebastian Raschka' -v -p torch,torchvision"
   ]
  },
  {
   "cell_type": "code",
   "execution_count": 2,
   "metadata": {},
   "outputs": [],
   "source": [
    "import torch\n",
    "import time\n",
    "import numpy as np\n",
    "import torch\n",
    "import torch.nn as nn\n",
    "import torch.nn.functional as F\n",
    "from torchvision import datasets\n",
    "from torch.utils.data.dataset import Subset\n",
    "from torchvision import transforms\n",
    "from torch.utils.data import DataLoader\n",
    "\n",
    "#######################################\n",
    "### PRE-TRAINED MODELS AVAILABLE HERE\n",
    "## https://pytorch.org/docs/stable/torchvision/models.html\n",
    "from torchvision import models\n",
    "#######################################\n",
    "\n",
    "if torch.cuda.is_available():\n",
    "    torch.backends.cudnn.deterministic = True"
   ]
  },
  {
   "cell_type": "markdown",
   "metadata": {},
   "source": [
    "### Loading an Example Dataset"
   ]
  },
  {
   "cell_type": "markdown",
   "metadata": {},
   "source": [
    "In this example, we are going to work with CIFAR-10, because you are familiar with it and it is easier (smaller) than ImageNet. However, note that in a \"real-world application\", images with dimension > 224x224 are recommended. Here, we resize the images as a workaround\n",
    "\n",
    "- Note that due to the average pooling in the final layer, it is also possible to feed in 32x32-pixel images directly. However, I noticed that the performance is rather low (~65% test accuracy after 10 and 100 epochs)."
   ]
  },
  {
   "cell_type": "code",
   "execution_count": 3,
   "metadata": {},
   "outputs": [
    {
     "name": "stdout",
     "output_type": "stream",
     "text": [
      "Device: cuda:2\n"
     ]
    }
   ],
   "source": [
    "##########################\n",
    "### SETTINGS\n",
    "##########################\n",
    "\n",
    "# Device\n",
    "DEVICE = torch.device(\"cuda:2\" if torch.cuda.is_available() else \"cpu\")\n",
    "print('Device:', DEVICE)\n",
    "\n",
    "NUM_CLASSES = 10\n",
    "\n",
    "# Hyperparameters\n",
    "RANDOM_SEED = 1\n",
    "LEARNING_RATE = 0.0001\n",
    "NUM_EPOCHS = 50\n",
    "BATCH_SIZE = 256\n",
    "\n",
    "# Architecture\n",
    "NUM_CLASSES = 10"
   ]
  },
  {
   "cell_type": "code",
   "execution_count": 4,
   "metadata": {},
   "outputs": [
    {
     "name": "stdout",
     "output_type": "stream",
     "text": [
      "Files already downloaded and verified\n",
      "Mean: tensor([0.4914, 0.4822, 0.4465])\n",
      "Std Dev: tensor([0.2468, 0.2433, 0.2614])\n"
     ]
    }
   ],
   "source": [
    "######### IMPORTANT! ##############\n",
    "\n",
    "# Check and use the normalization scheme that was used for the\n",
    "# pre-trained model.\n",
    "\n",
    "train_indices = torch.arange(0, 49000)\n",
    "valid_indices = torch.arange(49000, 50000)\n",
    "\n",
    "\n",
    "\n",
    "\n",
    "train_and_valid = datasets.CIFAR10(root='data', \n",
    "                                   train=True, \n",
    "                                   transform=transforms.ToTensor(),\n",
    "                                   download=True)\n",
    "\n",
    "train_dataset = Subset(train_and_valid, train_indices)\n",
    "train_loader = DataLoader(dataset=train_dataset, \n",
    "                          batch_size=BATCH_SIZE,\n",
    "                          num_workers=8,\n",
    "                          shuffle=True)\n",
    "\n",
    "\n",
    "\n",
    "train_mean = []\n",
    "train_std = []\n",
    "\n",
    "for i, image in enumerate(train_loader, 0):\n",
    "    numpy_image = image[0].numpy()\n",
    "    \n",
    "    batch_mean = np.mean(numpy_image, axis=(0, 2, 3))\n",
    "    batch_std = np.std(numpy_image, axis=(0, 2, 3))\n",
    "    \n",
    "    train_mean.append(batch_mean)\n",
    "    train_std.append(batch_std)\n",
    "\n",
    "train_mean = torch.tensor(np.mean(train_mean, axis=0))\n",
    "train_std = torch.tensor(np.mean(train_std, axis=0))\n",
    "\n",
    "print('Mean:', train_mean)\n",
    "print('Std Dev:', train_std)\n",
    "\n",
    "\n",
    "custom_transform = transforms.Compose([transforms.ToTensor(),\n",
    "                                       transforms.Normalize(mean=train_mean, std=train_std)])\n",
    "\n",
    "####################################"
   ]
  },
  {
   "cell_type": "code",
   "execution_count": 5,
   "metadata": {},
   "outputs": [
    {
     "name": "stdout",
     "output_type": "stream",
     "text": [
      "Files already downloaded and verified\n",
      "Image batch dimensions: torch.Size([256, 3, 32, 32])\n",
      "Image label dimensions: torch.Size([256])\n",
      "Image batch dimensions: torch.Size([256, 3, 32, 32])\n",
      "Image label dimensions: torch.Size([256])\n",
      "Image batch dimensions: torch.Size([256, 3, 32, 32])\n",
      "Image label dimensions: torch.Size([256])\n"
     ]
    }
   ],
   "source": [
    "##########################\n",
    "### CIFAR-10 Dataset\n",
    "##########################\n",
    "\n",
    "\n",
    "# Note transforms.ToTensor() scales input images\n",
    "# to 0-1 range\n",
    "\n",
    "\n",
    "train_indices = torch.arange(0, 49000)\n",
    "valid_indices = torch.arange(49000, 50000)\n",
    "\n",
    "\n",
    "train_and_valid = datasets.CIFAR10(root='data', \n",
    "                                   train=True, \n",
    "                                   transform=custom_transform,\n",
    "                                   download=True)\n",
    "\n",
    "train_dataset = Subset(train_and_valid, train_indices)\n",
    "valid_dataset = Subset(train_and_valid, valid_indices)\n",
    "\n",
    "\n",
    "test_dataset = datasets.CIFAR10(root='data', \n",
    "                                train=False, \n",
    "                                transform=custom_transform)\n",
    "\n",
    "\n",
    "#####################################################\n",
    "### Data Loaders\n",
    "#####################################################\n",
    "\n",
    "train_loader = DataLoader(dataset=train_dataset, \n",
    "                          batch_size=BATCH_SIZE,\n",
    "                          num_workers=8,\n",
    "                          shuffle=True)\n",
    "\n",
    "valid_loader = DataLoader(dataset=valid_dataset, \n",
    "                          batch_size=BATCH_SIZE,\n",
    "                          num_workers=8,\n",
    "                          shuffle=False)\n",
    "\n",
    "test_loader = DataLoader(dataset=test_dataset, \n",
    "                         batch_size=BATCH_SIZE,\n",
    "                         num_workers=8,\n",
    "                         shuffle=False)\n",
    "\n",
    "#####################################################\n",
    "\n",
    "# Checking the dataset\n",
    "for images, labels in train_loader:  \n",
    "    print('Image batch dimensions:', images.shape)\n",
    "    print('Image label dimensions:', labels.shape)\n",
    "    break\n",
    "\n",
    "for images, labels in test_loader:  \n",
    "    print('Image batch dimensions:', images.shape)\n",
    "    print('Image label dimensions:', labels.shape)\n",
    "    break\n",
    "    \n",
    "for images, labels in valid_loader:  \n",
    "    print('Image batch dimensions:', images.shape)\n",
    "    print('Image label dimensions:', labels.shape)\n",
    "    break"
   ]
  },
  {
   "cell_type": "markdown",
   "metadata": {},
   "source": [
    "## Loading the Pre-Trained Model"
   ]
  },
  {
   "cell_type": "code",
   "execution_count": 6,
   "metadata": {},
   "outputs": [
    {
     "data": {
      "text/plain": [
       "VGG(\n",
       "  (features): Sequential(\n",
       "    (0): Conv2d(3, 64, kernel_size=(3, 3), stride=(1, 1), padding=(1, 1))\n",
       "    (1): ReLU(inplace=True)\n",
       "    (2): Conv2d(64, 64, kernel_size=(3, 3), stride=(1, 1), padding=(1, 1))\n",
       "    (3): ReLU(inplace=True)\n",
       "    (4): MaxPool2d(kernel_size=2, stride=2, padding=0, dilation=1, ceil_mode=False)\n",
       "    (5): Conv2d(64, 128, kernel_size=(3, 3), stride=(1, 1), padding=(1, 1))\n",
       "    (6): ReLU(inplace=True)\n",
       "    (7): Conv2d(128, 128, kernel_size=(3, 3), stride=(1, 1), padding=(1, 1))\n",
       "    (8): ReLU(inplace=True)\n",
       "    (9): MaxPool2d(kernel_size=2, stride=2, padding=0, dilation=1, ceil_mode=False)\n",
       "    (10): Conv2d(128, 256, kernel_size=(3, 3), stride=(1, 1), padding=(1, 1))\n",
       "    (11): ReLU(inplace=True)\n",
       "    (12): Conv2d(256, 256, kernel_size=(3, 3), stride=(1, 1), padding=(1, 1))\n",
       "    (13): ReLU(inplace=True)\n",
       "    (14): Conv2d(256, 256, kernel_size=(3, 3), stride=(1, 1), padding=(1, 1))\n",
       "    (15): ReLU(inplace=True)\n",
       "    (16): MaxPool2d(kernel_size=2, stride=2, padding=0, dilation=1, ceil_mode=False)\n",
       "    (17): Conv2d(256, 512, kernel_size=(3, 3), stride=(1, 1), padding=(1, 1))\n",
       "    (18): ReLU(inplace=True)\n",
       "    (19): Conv2d(512, 512, kernel_size=(3, 3), stride=(1, 1), padding=(1, 1))\n",
       "    (20): ReLU(inplace=True)\n",
       "    (21): Conv2d(512, 512, kernel_size=(3, 3), stride=(1, 1), padding=(1, 1))\n",
       "    (22): ReLU(inplace=True)\n",
       "    (23): MaxPool2d(kernel_size=2, stride=2, padding=0, dilation=1, ceil_mode=False)\n",
       "    (24): Conv2d(512, 512, kernel_size=(3, 3), stride=(1, 1), padding=(1, 1))\n",
       "    (25): ReLU(inplace=True)\n",
       "    (26): Conv2d(512, 512, kernel_size=(3, 3), stride=(1, 1), padding=(1, 1))\n",
       "    (27): ReLU(inplace=True)\n",
       "    (28): Conv2d(512, 512, kernel_size=(3, 3), stride=(1, 1), padding=(1, 1))\n",
       "    (29): ReLU(inplace=True)\n",
       "    (30): MaxPool2d(kernel_size=2, stride=2, padding=0, dilation=1, ceil_mode=False)\n",
       "  )\n",
       "  (avgpool): AdaptiveAvgPool2d(output_size=(7, 7))\n",
       "  (classifier): Sequential(\n",
       "    (0): Linear(in_features=25088, out_features=4096, bias=True)\n",
       "    (1): ReLU(inplace=True)\n",
       "    (2): Dropout(p=0.5, inplace=False)\n",
       "    (3): Linear(in_features=4096, out_features=4096, bias=True)\n",
       "    (4): ReLU(inplace=True)\n",
       "    (5): Dropout(p=0.5, inplace=False)\n",
       "    (6): Linear(in_features=4096, out_features=1000, bias=True)\n",
       "  )\n",
       ")"
      ]
     },
     "execution_count": 6,
     "metadata": {},
     "output_type": "execute_result"
    }
   ],
   "source": [
    "model = models.vgg16(pretrained=True)\n",
    "model"
   ]
  },
  {
   "cell_type": "markdown",
   "metadata": {},
   "source": [
    "## Freezing the Model"
   ]
  },
  {
   "cell_type": "code",
   "execution_count": 7,
   "metadata": {},
   "outputs": [],
   "source": [
    "for param in model.parameters():\n",
    "    param.requires_grad = False"
   ]
  },
  {
   "cell_type": "markdown",
   "metadata": {},
   "source": [
    "Assume we want to train the penultimate layer:"
   ]
  },
  {
   "cell_type": "code",
   "execution_count": 8,
   "metadata": {},
   "outputs": [],
   "source": [
    "model.classifier[3].requires_grad = True"
   ]
  },
  {
   "cell_type": "markdown",
   "metadata": {},
   "source": [
    "Now, replace the output layer with your own output layer (here, we actually add two more output layers):"
   ]
  },
  {
   "cell_type": "code",
   "execution_count": 9,
   "metadata": {},
   "outputs": [],
   "source": [
    "model.classifier[6] = nn.Sequential(\n",
    "                      nn.Linear(4096, NUM_CLASSES))"
   ]
  },
  {
   "cell_type": "markdown",
   "metadata": {},
   "source": [
    "## Training (as usual)"
   ]
  },
  {
   "cell_type": "code",
   "execution_count": 10,
   "metadata": {},
   "outputs": [],
   "source": [
    "model = model.to(DEVICE)\n",
    "optimizer = torch.optim.Adam(model.parameters())"
   ]
  },
  {
   "cell_type": "code",
   "execution_count": 11,
   "metadata": {},
   "outputs": [
    {
     "name": "stdout",
     "output_type": "stream",
     "text": [
      "Epoch: 001/050 | Batch 000/192 | Cost: 2.7330\n",
      "Epoch: 001/050 | Batch 120/192 | Cost: 1.3978\n",
      "Epoch: 001/050 Train Acc.: 59.60% | Validation Acc.: 57.70%\n",
      "Time elapsed: 0.29 min\n",
      "Epoch: 002/050 | Batch 000/192 | Cost: 1.3622\n",
      "Epoch: 002/050 | Batch 120/192 | Cost: 1.3025\n",
      "Epoch: 002/050 Train Acc.: 59.93% | Validation Acc.: 56.00%\n",
      "Time elapsed: 0.57 min\n",
      "Epoch: 003/050 | Batch 000/192 | Cost: 1.1925\n",
      "Epoch: 003/050 | Batch 120/192 | Cost: 1.2878\n",
      "Epoch: 003/050 Train Acc.: 59.75% | Validation Acc.: 56.80%\n",
      "Time elapsed: 0.86 min\n",
      "Epoch: 004/050 | Batch 000/192 | Cost: 1.0354\n",
      "Epoch: 004/050 | Batch 120/192 | Cost: 1.1251\n",
      "Epoch: 004/050 Train Acc.: 60.88% | Validation Acc.: 57.40%\n",
      "Time elapsed: 1.14 min\n",
      "Epoch: 005/050 | Batch 000/192 | Cost: 1.0399\n",
      "Epoch: 005/050 | Batch 120/192 | Cost: 1.3522\n",
      "Epoch: 005/050 Train Acc.: 59.94% | Validation Acc.: 56.70%\n",
      "Time elapsed: 1.43 min\n",
      "Epoch: 006/050 | Batch 000/192 | Cost: 1.3220\n",
      "Epoch: 006/050 | Batch 120/192 | Cost: 1.2058\n",
      "Epoch: 006/050 Train Acc.: 60.92% | Validation Acc.: 56.20%\n",
      "Time elapsed: 1.73 min\n",
      "Epoch: 007/050 | Batch 000/192 | Cost: 1.1090\n",
      "Epoch: 007/050 | Batch 120/192 | Cost: 1.1030\n",
      "Epoch: 007/050 Train Acc.: 60.75% | Validation Acc.: 60.20%\n",
      "Time elapsed: 2.02 min\n",
      "Epoch: 008/050 | Batch 000/192 | Cost: 1.0979\n",
      "Epoch: 008/050 | Batch 120/192 | Cost: 1.0287\n",
      "Epoch: 008/050 Train Acc.: 60.14% | Validation Acc.: 57.80%\n",
      "Time elapsed: 2.32 min\n",
      "Epoch: 009/050 | Batch 000/192 | Cost: 1.0488\n",
      "Epoch: 009/050 | Batch 120/192 | Cost: 1.2014\n",
      "Epoch: 009/050 Train Acc.: 61.09% | Validation Acc.: 58.60%\n",
      "Time elapsed: 2.62 min\n",
      "Epoch: 010/050 | Batch 000/192 | Cost: 1.0568\n",
      "Epoch: 010/050 | Batch 120/192 | Cost: 1.1205\n",
      "Epoch: 010/050 Train Acc.: 60.78% | Validation Acc.: 56.20%\n",
      "Time elapsed: 2.92 min\n",
      "Epoch: 011/050 | Batch 000/192 | Cost: 1.3931\n",
      "Epoch: 011/050 | Batch 120/192 | Cost: 1.3125\n",
      "Epoch: 011/050 Train Acc.: 60.83% | Validation Acc.: 58.10%\n",
      "Time elapsed: 3.21 min\n",
      "Epoch: 012/050 | Batch 000/192 | Cost: 1.1418\n",
      "Epoch: 012/050 | Batch 120/192 | Cost: 1.2188\n",
      "Epoch: 012/050 Train Acc.: 60.26% | Validation Acc.: 56.30%\n",
      "Time elapsed: 3.51 min\n",
      "Epoch: 013/050 | Batch 000/192 | Cost: 1.1347\n",
      "Epoch: 013/050 | Batch 120/192 | Cost: 1.0717\n",
      "Epoch: 013/050 Train Acc.: 60.68% | Validation Acc.: 55.70%\n",
      "Time elapsed: 3.81 min\n",
      "Epoch: 014/050 | Batch 000/192 | Cost: 1.2151\n",
      "Epoch: 014/050 | Batch 120/192 | Cost: 1.3374\n",
      "Epoch: 014/050 Train Acc.: 60.85% | Validation Acc.: 57.40%\n",
      "Time elapsed: 4.10 min\n",
      "Epoch: 015/050 | Batch 000/192 | Cost: 1.2271\n",
      "Epoch: 015/050 | Batch 120/192 | Cost: 1.1196\n",
      "Epoch: 015/050 Train Acc.: 61.23% | Validation Acc.: 56.50%\n",
      "Time elapsed: 4.40 min\n",
      "Epoch: 016/050 | Batch 000/192 | Cost: 1.1216\n",
      "Epoch: 016/050 | Batch 120/192 | Cost: 1.1062\n",
      "Epoch: 016/050 Train Acc.: 60.77% | Validation Acc.: 55.30%\n",
      "Time elapsed: 4.70 min\n",
      "Epoch: 017/050 | Batch 000/192 | Cost: 1.0665\n",
      "Epoch: 017/050 | Batch 120/192 | Cost: 1.2885\n",
      "Epoch: 017/050 Train Acc.: 60.87% | Validation Acc.: 57.30%\n",
      "Time elapsed: 5.00 min\n",
      "Epoch: 018/050 | Batch 000/192 | Cost: 1.1048\n",
      "Epoch: 018/050 | Batch 120/192 | Cost: 1.0903\n",
      "Epoch: 018/050 Train Acc.: 61.24% | Validation Acc.: 57.60%\n",
      "Time elapsed: 5.30 min\n",
      "Epoch: 019/050 | Batch 000/192 | Cost: 1.2982\n",
      "Epoch: 019/050 | Batch 120/192 | Cost: 1.3147\n",
      "Epoch: 019/050 Train Acc.: 60.88% | Validation Acc.: 58.90%\n",
      "Time elapsed: 5.59 min\n",
      "Epoch: 020/050 | Batch 000/192 | Cost: 1.1880\n",
      "Epoch: 020/050 | Batch 120/192 | Cost: 1.1584\n",
      "Epoch: 020/050 Train Acc.: 61.08% | Validation Acc.: 59.10%\n",
      "Time elapsed: 5.89 min\n",
      "Epoch: 021/050 | Batch 000/192 | Cost: 1.2056\n",
      "Epoch: 021/050 | Batch 120/192 | Cost: 0.9482\n",
      "Epoch: 021/050 Train Acc.: 61.13% | Validation Acc.: 56.10%\n",
      "Time elapsed: 6.18 min\n",
      "Epoch: 022/050 | Batch 000/192 | Cost: 1.0431\n",
      "Epoch: 022/050 | Batch 120/192 | Cost: 1.2612\n",
      "Epoch: 022/050 Train Acc.: 60.41% | Validation Acc.: 56.20%\n",
      "Time elapsed: 6.48 min\n",
      "Epoch: 023/050 | Batch 000/192 | Cost: 1.0214\n",
      "Epoch: 023/050 | Batch 120/192 | Cost: 1.3511\n",
      "Epoch: 023/050 Train Acc.: 61.40% | Validation Acc.: 57.80%\n",
      "Time elapsed: 6.78 min\n",
      "Epoch: 024/050 | Batch 000/192 | Cost: 1.0603\n",
      "Epoch: 024/050 | Batch 120/192 | Cost: 1.2751\n",
      "Epoch: 024/050 Train Acc.: 60.97% | Validation Acc.: 55.90%\n",
      "Time elapsed: 7.08 min\n",
      "Epoch: 025/050 | Batch 000/192 | Cost: 1.0008\n",
      "Epoch: 025/050 | Batch 120/192 | Cost: 1.2131\n",
      "Epoch: 025/050 Train Acc.: 61.01% | Validation Acc.: 57.60%\n",
      "Time elapsed: 7.37 min\n",
      "Epoch: 026/050 | Batch 000/192 | Cost: 0.9450\n",
      "Epoch: 026/050 | Batch 120/192 | Cost: 1.3952\n",
      "Epoch: 026/050 Train Acc.: 61.05% | Validation Acc.: 55.80%\n",
      "Time elapsed: 7.67 min\n",
      "Epoch: 027/050 | Batch 000/192 | Cost: 1.1617\n",
      "Epoch: 027/050 | Batch 120/192 | Cost: 1.2779\n",
      "Epoch: 027/050 Train Acc.: 61.66% | Validation Acc.: 57.00%\n",
      "Time elapsed: 7.97 min\n",
      "Epoch: 028/050 | Batch 000/192 | Cost: 0.9825\n",
      "Epoch: 028/050 | Batch 120/192 | Cost: 1.0921\n",
      "Epoch: 028/050 Train Acc.: 60.70% | Validation Acc.: 58.20%\n",
      "Time elapsed: 8.26 min\n",
      "Epoch: 029/050 | Batch 000/192 | Cost: 1.1856\n",
      "Epoch: 029/050 | Batch 120/192 | Cost: 1.2133\n",
      "Epoch: 029/050 Train Acc.: 60.44% | Validation Acc.: 57.90%\n",
      "Time elapsed: 8.56 min\n",
      "Epoch: 030/050 | Batch 000/192 | Cost: 1.2304\n",
      "Epoch: 030/050 | Batch 120/192 | Cost: 1.1965\n",
      "Epoch: 030/050 Train Acc.: 60.47% | Validation Acc.: 56.80%\n",
      "Time elapsed: 8.85 min\n",
      "Epoch: 031/050 | Batch 000/192 | Cost: 1.2626\n",
      "Epoch: 031/050 | Batch 120/192 | Cost: 1.0107\n",
      "Epoch: 031/050 Train Acc.: 61.12% | Validation Acc.: 58.70%\n",
      "Time elapsed: 9.15 min\n",
      "Epoch: 032/050 | Batch 000/192 | Cost: 1.1617\n",
      "Epoch: 032/050 | Batch 120/192 | Cost: 1.2189\n",
      "Epoch: 032/050 Train Acc.: 60.60% | Validation Acc.: 57.70%\n",
      "Time elapsed: 9.45 min\n",
      "Epoch: 033/050 | Batch 000/192 | Cost: 1.1293\n",
      "Epoch: 033/050 | Batch 120/192 | Cost: 1.1604\n",
      "Epoch: 033/050 Train Acc.: 60.99% | Validation Acc.: 56.40%\n",
      "Time elapsed: 9.75 min\n",
      "Epoch: 034/050 | Batch 000/192 | Cost: 1.1652\n",
      "Epoch: 034/050 | Batch 120/192 | Cost: 1.1868\n",
      "Epoch: 034/050 Train Acc.: 60.43% | Validation Acc.: 58.20%\n",
      "Time elapsed: 10.04 min\n",
      "Epoch: 035/050 | Batch 000/192 | Cost: 1.3161\n",
      "Epoch: 035/050 | Batch 120/192 | Cost: 1.0945\n",
      "Epoch: 035/050 Train Acc.: 60.99% | Validation Acc.: 59.70%\n",
      "Time elapsed: 10.34 min\n",
      "Epoch: 036/050 | Batch 000/192 | Cost: 1.2254\n",
      "Epoch: 036/050 | Batch 120/192 | Cost: 1.2004\n",
      "Epoch: 036/050 Train Acc.: 60.47% | Validation Acc.: 56.10%\n",
      "Time elapsed: 10.64 min\n",
      "Epoch: 037/050 | Batch 000/192 | Cost: 1.1722\n",
      "Epoch: 037/050 | Batch 120/192 | Cost: 1.1186\n",
      "Epoch: 037/050 Train Acc.: 61.16% | Validation Acc.: 57.60%\n",
      "Time elapsed: 10.93 min\n",
      "Epoch: 038/050 | Batch 000/192 | Cost: 1.1595\n",
      "Epoch: 038/050 | Batch 120/192 | Cost: 1.2645\n",
      "Epoch: 038/050 Train Acc.: 60.14% | Validation Acc.: 56.70%\n",
      "Time elapsed: 11.23 min\n",
      "Epoch: 039/050 | Batch 000/192 | Cost: 1.1774\n",
      "Epoch: 039/050 | Batch 120/192 | Cost: 1.1635\n",
      "Epoch: 039/050 Train Acc.: 60.99% | Validation Acc.: 57.20%\n",
      "Time elapsed: 11.53 min\n",
      "Epoch: 040/050 | Batch 000/192 | Cost: 1.3080\n",
      "Epoch: 040/050 | Batch 120/192 | Cost: 1.2514\n",
      "Epoch: 040/050 Train Acc.: 61.01% | Validation Acc.: 56.40%\n",
      "Time elapsed: 11.83 min\n",
      "Epoch: 041/050 | Batch 000/192 | Cost: 1.2704\n",
      "Epoch: 041/050 | Batch 120/192 | Cost: 1.3124\n",
      "Epoch: 041/050 Train Acc.: 60.64% | Validation Acc.: 56.50%\n",
      "Time elapsed: 12.12 min\n",
      "Epoch: 042/050 | Batch 000/192 | Cost: 1.1681\n",
      "Epoch: 042/050 | Batch 120/192 | Cost: 1.0849\n",
      "Epoch: 042/050 Train Acc.: 60.79% | Validation Acc.: 56.30%\n",
      "Time elapsed: 12.41 min\n",
      "Epoch: 043/050 | Batch 000/192 | Cost: 1.1918\n",
      "Epoch: 043/050 | Batch 120/192 | Cost: 1.2914\n",
      "Epoch: 043/050 Train Acc.: 61.45% | Validation Acc.: 59.20%\n",
      "Time elapsed: 12.71 min\n",
      "Epoch: 044/050 | Batch 000/192 | Cost: 1.2470\n",
      "Epoch: 044/050 | Batch 120/192 | Cost: 1.2968\n",
      "Epoch: 044/050 Train Acc.: 60.60% | Validation Acc.: 57.20%\n",
      "Time elapsed: 13.01 min\n",
      "Epoch: 045/050 | Batch 000/192 | Cost: 0.9952\n",
      "Epoch: 045/050 | Batch 120/192 | Cost: 1.3622\n",
      "Epoch: 045/050 Train Acc.: 60.89% | Validation Acc.: 57.70%\n",
      "Time elapsed: 13.31 min\n",
      "Epoch: 046/050 | Batch 000/192 | Cost: 1.2554\n",
      "Epoch: 046/050 | Batch 120/192 | Cost: 1.0294\n",
      "Epoch: 046/050 Train Acc.: 61.00% | Validation Acc.: 58.60%\n",
      "Time elapsed: 13.61 min\n",
      "Epoch: 047/050 | Batch 000/192 | Cost: 1.3693\n",
      "Epoch: 047/050 | Batch 120/192 | Cost: 1.0994\n",
      "Epoch: 047/050 Train Acc.: 61.20% | Validation Acc.: 60.20%\n",
      "Time elapsed: 13.90 min\n",
      "Epoch: 048/050 | Batch 000/192 | Cost: 1.3045\n",
      "Epoch: 048/050 | Batch 120/192 | Cost: 1.1289\n",
      "Epoch: 048/050 Train Acc.: 60.48% | Validation Acc.: 58.30%\n",
      "Time elapsed: 14.20 min\n",
      "Epoch: 049/050 | Batch 000/192 | Cost: 1.1487\n",
      "Epoch: 049/050 | Batch 120/192 | Cost: 1.1190\n",
      "Epoch: 049/050 Train Acc.: 60.99% | Validation Acc.: 57.80%\n",
      "Time elapsed: 14.49 min\n",
      "Epoch: 050/050 | Batch 000/192 | Cost: 1.0979\n",
      "Epoch: 050/050 | Batch 120/192 | Cost: 1.4491\n",
      "Epoch: 050/050 Train Acc.: 61.43% | Validation Acc.: 57.20%\n",
      "Time elapsed: 14.79 min\n",
      "Total Training Time: 14.79 min\n"
     ]
    }
   ],
   "source": [
    "def compute_accuracy(model, data_loader, device):\n",
    "    correct_pred, num_examples = 0, 0\n",
    "    for i, (features, targets) in enumerate(data_loader):\n",
    "            \n",
    "        features = features.to(device)\n",
    "        targets = targets.to(device)\n",
    "\n",
    "        logits = model(features)\n",
    "        _, predicted_labels = torch.max(logits, 1)\n",
    "        num_examples += targets.size(0)\n",
    "        correct_pred += (predicted_labels == targets).sum()\n",
    "    return correct_pred.float()/num_examples * 100\n",
    "    \n",
    "\n",
    "start_time = time.time()\n",
    "\n",
    "# use random seed for reproducibility (here batch shuffling)\n",
    "torch.manual_seed(RANDOM_SEED)\n",
    "\n",
    "for epoch in range(NUM_EPOCHS):\n",
    "    \n",
    "    model.train()\n",
    "    \n",
    "    for batch_idx, (features, targets) in enumerate(train_loader):\n",
    "    \n",
    "        ### PREPARE MINIBATCH\n",
    "        features = features.to(DEVICE)\n",
    "        targets = targets.to(DEVICE)\n",
    "            \n",
    "        ### FORWARD AND BACK PROP\n",
    "        logits = model(features)\n",
    "        cost = F.cross_entropy(logits, targets)\n",
    "        optimizer.zero_grad()\n",
    "        \n",
    "        cost.backward()\n",
    "        \n",
    "        ### UPDATE MODEL PARAMETERS\n",
    "        optimizer.step()\n",
    "        \n",
    "        ### LOGGING\n",
    "        if not batch_idx % 120:\n",
    "            print (f'Epoch: {epoch+1:03d}/{NUM_EPOCHS:03d} | '\n",
    "                   f'Batch {batch_idx:03d}/{len(train_loader):03d} |' \n",
    "                   f' Cost: {cost:.4f}')\n",
    "\n",
    "    # no need to build the computation graph for backprop when computing accuracy\n",
    "    with torch.set_grad_enabled(False):\n",
    "        train_acc = compute_accuracy(model, train_loader, device=DEVICE)\n",
    "        valid_acc = compute_accuracy(model, valid_loader, device=DEVICE)\n",
    "        print(f'Epoch: {epoch+1:03d}/{NUM_EPOCHS:03d} Train Acc.: {train_acc:.2f}%'\n",
    "              f' | Validation Acc.: {valid_acc:.2f}%')\n",
    "        \n",
    "    elapsed = (time.time() - start_time)/60\n",
    "    print(f'Time elapsed: {elapsed:.2f} min')\n",
    "  \n",
    "elapsed = (time.time() - start_time)/60\n",
    "print(f'Total Training Time: {elapsed:.2f} min')"
   ]
  },
  {
   "cell_type": "code",
   "execution_count": 12,
   "metadata": {},
   "outputs": [
    {
     "name": "stdout",
     "output_type": "stream",
     "text": [
      "Test accuracy: 57.90%\n"
     ]
    }
   ],
   "source": [
    "with torch.set_grad_enabled(False): # save memory during inference\n",
    "    print('Test accuracy: %.2f%%' % (compute_accuracy(model, test_loader, device=DEVICE)))"
   ]
  },
  {
   "cell_type": "code",
   "execution_count": 13,
   "metadata": {},
   "outputs": [],
   "source": [
    "%matplotlib inline\n",
    "import matplotlib.pyplot as plt"
   ]
  },
  {
   "cell_type": "code",
   "execution_count": 14,
   "metadata": {},
   "outputs": [],
   "source": [
    "classes = ('plane', 'car', 'bird', 'cat',\n",
    "           'deer', 'dog', 'frog', 'horse', 'ship', 'truck')\n",
    "\n",
    "for batch_idx, (features, targets) in enumerate(test_loader):\n",
    "\n",
    "    features = features\n",
    "    targets = targets\n",
    "    break\n",
    "\n",
    "logits = model(features.to(DEVICE))\n",
    "_, predicted_labels = torch.max(logits, 1)\n",
    "    "
   ]
  },
  {
   "cell_type": "code",
   "execution_count": 15,
   "metadata": {},
   "outputs": [
    {
     "data": {
      "image/png": "[encoded data removed]",
      "text/plain": [
       "<Figure size 1440x180 with 10 Axes>"
      ]
     },
     "metadata": {
      "needs_background": "light"
     },
     "output_type": "display_data"
    }
   ],
   "source": [
    "def unnormalize(tensor, mean, std):\n",
    "    for t, m, s in zip(tensor, mean, std):\n",
    "        t.mul_(s).add_(m)\n",
    "    return tensor\n",
    "\n",
    "n_images = 10\n",
    "\n",
    "fig, axes = plt.subplots(nrows=1, ncols=n_images, \n",
    "                         sharex=True, sharey=True, figsize=(20, 2.5))\n",
    "orig_images = features[:n_images]\n",
    "\n",
    "for i in range(n_images):\n",
    "    curr_img = orig_images[i].detach().to(torch.device('cpu'))\n",
    "    curr_img = unnormalize(curr_img,\n",
    "                           torch.tensor([0.485, 0.456, 0.406]),\n",
    "                           torch.tensor([0.229, 0.224, 0.225])) \n",
    "    curr_img = curr_img.permute((1, 2, 0))\n",
    "    axes[i].imshow(curr_img)\n",
    "    axes[i].set_title(classes[predicted_labels[i]])"
   ]
  }
 ],
 "metadata": {
  "kernelspec": {
   "display_name": "Python 3",
   "language": "python",
   "name": "python3"
  },
  "language_info": {
   "codemirror_mode": {
    "name": "ipython",
    "version": 3
   },
   "file_extension": ".py",
   "mimetype": "text/x-python",
   "name": "python",
   "nbconvert_exporter": "python",
   "pygments_lexer": "ipython3",
   "version": "3.7.3"
  }
 },
 "nbformat": 4,
 "nbformat_minor": 4
}
