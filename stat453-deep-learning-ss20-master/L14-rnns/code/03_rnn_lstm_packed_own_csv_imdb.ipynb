{
 "cells": [
  {
   "cell_type": "markdown",
   "metadata": {},
   "source": [
    "STAT 453: Deep Learning (Spring 2020)\n",
    "Instructor: Sebastian Raschka (sraschka@wisc.edu)\n",
    "- Course website: http://pages.stat.wisc.edu/~sraschka/teaching/stat453-ss2020/ \n",
    "- GitHub repository: https://github.com/rasbt/stat453-deep-learning-ss20"
   ]
  },
  {
   "cell_type": "markdown",
   "metadata": {
    "colab_type": "text",
    "id": "vY4SK0xKAJgm"
   },
   "source": [
    "# RNN with LSTM with Own Dataset"
   ]
  },
  {
   "cell_type": "markdown",
   "metadata": {
    "colab_type": "text",
    "id": "sc6xejhY-NzZ"
   },
   "source": [
    "Example notebook showing how to use an own CSV text dataset for training a simple RNN for sentiment classification (here: a binary classification problem with two labels, positive and negative) using LSTM (Long Short Term Memory) cells."
   ]
  },
  {
   "cell_type": "code",
   "execution_count": 1,
   "metadata": {
    "colab": {},
    "colab_type": "code",
    "id": "moNmVfuvnImW"
   },
   "outputs": [
    {
     "name": "stdout",
     "output_type": "stream",
     "text": [
      "Sebastian Raschka \n",
      "\n",
      "CPython 3.7.3\n",
      "IPython 7.9.0\n",
      "\n",
      "torch 1.4.0\n"
     ]
    }
   ],
   "source": [
    "%load_ext watermark\n",
    "%watermark -a 'Sebastian Raschka' -v -p torch\n",
    "\n",
    "import torch\n",
    "import torch.nn.functional as F\n",
    "from torchtext import data\n",
    "from torchtext import datasets\n",
    "import time\n",
    "import random\n",
    "import pandas as pd\n",
    "\n",
    "torch.backends.cudnn.deterministic = True"
   ]
  },
  {
   "cell_type": "markdown",
   "metadata": {
    "colab_type": "text",
    "id": "GSRL42Qgy8I8"
   },
   "source": [
    "## General Settings"
   ]
  },
  {
   "cell_type": "code",
   "execution_count": 2,
   "metadata": {
    "colab": {},
    "colab_type": "code",
    "id": "OvW1RgfepCBq"
   },
   "outputs": [],
   "source": [
    "RANDOM_SEED = 123\n",
    "torch.manual_seed(RANDOM_SEED)\n",
    "\n",
    "VOCABULARY_SIZE = 20000\n",
    "LEARNING_RATE = 1e-4\n",
    "BATCH_SIZE = 128\n",
    "NUM_EPOCHS = 15\n",
    "DEVICE = torch.device('cuda:3' if torch.cuda.is_available() else 'cpu')\n",
    "\n",
    "EMBEDDING_DIM = 128\n",
    "HIDDEN_DIM = 256\n",
    "OUTPUT_DIM = 1"
   ]
  },
  {
   "cell_type": "markdown",
   "metadata": {
    "colab_type": "text",
    "id": "mQMmKUEisW4W"
   },
   "source": [
    "## Dataset"
   ]
  },
  {
   "cell_type": "markdown",
   "metadata": {},
   "source": [
    "The following cells will download the IMDB movie review dataset (http://ai.stanford.edu/~amaas/data/sentiment/) for positive-negative sentiment classification in as CSV-formatted file:"
   ]
  },
  {
   "cell_type": "code",
   "execution_count": 3,
   "metadata": {},
   "outputs": [
    {
     "name": "stdout",
     "output_type": "stream",
     "text": [
      "--2020-04-13 20:19:57--  https://github.com/rasbt/python-machine-learning-book-2nd-edition/raw/master/code/ch08/movie_data.csv.gz\n",
      "Resolving github.com (github.com)... 140.82.112.4\n",
      "Connecting to github.com (github.com)|140.82.112.4|:443... connected.\n",
      "HTTP request sent, awaiting response... 302 Found\n",
      "Location: https://raw.githubusercontent.com/rasbt/python-machine-learning-book-2nd-edition/master/code/ch08/movie_data.csv.gz [following]\n",
      "--2020-04-13 20:19:58--  https://raw.githubusercontent.com/rasbt/python-machine-learning-book-2nd-edition/master/code/ch08/movie_data.csv.gz\n",
      "Resolving raw.githubusercontent.com (raw.githubusercontent.com)... 151.101.184.133\n",
      "Connecting to raw.githubusercontent.com (raw.githubusercontent.com)|151.101.184.133|:443... connected.\n",
      "HTTP request sent, awaiting response... 200 OK\n",
      "Length: 26521894 (25M) [application/octet-stream]\n",
      "Saving to: ‘movie_data.csv.gz’\n",
      "\n",
      "movie_data.csv.gz   100%[===================>]  25.29M  13.8MB/s    in 1.8s    \n",
      "\n",
      "2020-04-13 20:20:00 (13.8 MB/s) - ‘movie_data.csv.gz’ saved [26521894/26521894]\n",
      "\n"
     ]
    }
   ],
   "source": [
    "!wget https://github.com/rasbt/python-machine-learning-book-2nd-edition/raw/master/code/ch08/movie_data.csv.gz"
   ]
  },
  {
   "cell_type": "code",
   "execution_count": 4,
   "metadata": {},
   "outputs": [],
   "source": [
    "!gunzip -f movie_data.csv.gz "
   ]
  },
  {
   "cell_type": "markdown",
   "metadata": {},
   "source": [
    "Check that the dataset looks okay:"
   ]
  },
  {
   "cell_type": "code",
   "execution_count": 5,
   "metadata": {},
   "outputs": [
    {
     "data": {
      "text/html": [
       "<div>\n",
       "<style scoped>\n",
       "    .dataframe tbody tr th:only-of-type {\n",
       "        vertical-align: middle;\n",
       "    }\n",
       "\n",
       "    .dataframe tbody tr th {\n",
       "        vertical-align: top;\n",
       "    }\n",
       "\n",
       "    .dataframe thead th {\n",
       "        text-align: right;\n",
       "    }\n",
       "</style>\n",
       "<table border=\"1\" class=\"dataframe\">\n",
       "  <thead>\n",
       "    <tr style=\"text-align: right;\">\n",
       "      <th></th>\n",
       "      <th>review</th>\n",
       "      <th>sentiment</th>\n",
       "    </tr>\n",
       "  </thead>\n",
       "  <tbody>\n",
       "    <tr>\n",
       "      <th>0</th>\n",
       "      <td>In 1974, the teenager Martha Moxley (Maggie Gr...</td>\n",
       "      <td>1</td>\n",
       "    </tr>\n",
       "    <tr>\n",
       "      <th>1</th>\n",
       "      <td>OK... so... I really like Kris Kristofferson a...</td>\n",
       "      <td>0</td>\n",
       "    </tr>\n",
       "    <tr>\n",
       "      <th>2</th>\n",
       "      <td>***SPOILER*** Do not read this, if you think a...</td>\n",
       "      <td>0</td>\n",
       "    </tr>\n",
       "    <tr>\n",
       "      <th>3</th>\n",
       "      <td>hi for all the people who have seen this wonde...</td>\n",
       "      <td>1</td>\n",
       "    </tr>\n",
       "    <tr>\n",
       "      <th>4</th>\n",
       "      <td>I recently bought the DVD, forgetting just how...</td>\n",
       "      <td>0</td>\n",
       "    </tr>\n",
       "  </tbody>\n",
       "</table>\n",
       "</div>"
      ],
      "text/plain": [
       "                                              review  sentiment\n",
       "0  In 1974, the teenager Martha Moxley (Maggie Gr...          1\n",
       "1  OK... so... I really like Kris Kristofferson a...          0\n",
       "2  ***SPOILER*** Do not read this, if you think a...          0\n",
       "3  hi for all the people who have seen this wonde...          1\n",
       "4  I recently bought the DVD, forgetting just how...          0"
      ]
     },
     "execution_count": 5,
     "metadata": {},
     "output_type": "execute_result"
    }
   ],
   "source": [
    "df = pd.read_csv('movie_data.csv')\n",
    "df.head()"
   ]
  },
  {
   "cell_type": "code",
   "execution_count": 6,
   "metadata": {},
   "outputs": [],
   "source": [
    "del df"
   ]
  },
  {
   "cell_type": "markdown",
   "metadata": {
    "colab_type": "text",
    "id": "4GnH64XvsV8n"
   },
   "source": [
    "Define the Label and Text field formatters:"
   ]
  },
  {
   "cell_type": "code",
   "execution_count": 7,
   "metadata": {},
   "outputs": [],
   "source": [
    "TEXT = data.Field(sequential=True,\n",
    "                  tokenize='spacy',\n",
    "                  include_lengths=True) # necessary for packed_padded_sequence\n",
    "\n",
    "LABEL = data.LabelField(dtype=torch.float)"
   ]
  },
  {
   "cell_type": "markdown",
   "metadata": {},
   "source": [
    "Process the dataset:"
   ]
  },
  {
   "cell_type": "code",
   "execution_count": 8,
   "metadata": {},
   "outputs": [],
   "source": [
    "fields = [('review', TEXT), ('sentiment', LABEL)]\n",
    "\n",
    "dataset = data.TabularDataset(\n",
    "    path=\"movie_data.csv\", format='csv',\n",
    "    skip_header=True, fields=fields)"
   ]
  },
  {
   "cell_type": "markdown",
   "metadata": {},
   "source": [
    "Split the dataset into training, validation, and test partitions:"
   ]
  },
  {
   "cell_type": "code",
   "execution_count": 9,
   "metadata": {
    "colab": {
     "base_uri": "https://localhost:8080/",
     "height": 68
    },
    "colab_type": "code",
    "id": "WZ_4jiHVnMxN",
    "outputId": "dfa51c04-4845-44c3-f50b-d36d41f132b8"
   },
   "outputs": [
    {
     "name": "stdout",
     "output_type": "stream",
     "text": [
      "Num Train: 37500\n",
      "Num Valid: 10000\n",
      "Num Test: 2500\n"
     ]
    }
   ],
   "source": [
    "train_data, valid_data, test_data = dataset.split(\n",
    "    split_ratio=[0.75, 0.05, 0.2],\n",
    "    random_state=random.seed(RANDOM_SEED))\n",
    "\n",
    "print(f'Num Train: {len(train_data)}')\n",
    "print(f'Num Valid: {len(valid_data)}')\n",
    "print(f'Num Test: {len(test_data)}')"
   ]
  },
  {
   "cell_type": "markdown",
   "metadata": {
    "colab_type": "text",
    "id": "L-TBwKWPslPa"
   },
   "source": [
    "Build the vocabulary based on the top \"VOCABULARY_SIZE\" words:"
   ]
  },
  {
   "cell_type": "code",
   "execution_count": 10,
   "metadata": {
    "colab": {
     "base_uri": "https://localhost:8080/",
     "height": 51
    },
    "colab_type": "code",
    "id": "e8uNrjdtn4A8",
    "outputId": "6cf499d7-7722-4da0-8576-ee0f218cc6e3"
   },
   "outputs": [
    {
     "name": "stdout",
     "output_type": "stream",
     "text": [
      "Vocabulary size: 20002\n",
      "Number of classes: 2\n"
     ]
    }
   ],
   "source": [
    "TEXT.build_vocab(train_data, max_size=VOCABULARY_SIZE)\n",
    "LABEL.build_vocab(train_data)\n",
    "\n",
    "print(f'Vocabulary size: {len(TEXT.vocab)}')\n",
    "print(f'Number of classes: {len(LABEL.vocab)}')"
   ]
  },
  {
   "cell_type": "code",
   "execution_count": 11,
   "metadata": {},
   "outputs": [
    {
     "data": {
      "text/plain": [
       "Counter({'0': 18742, '1': 18758})"
      ]
     },
     "execution_count": 11,
     "metadata": {},
     "output_type": "execute_result"
    }
   ],
   "source": [
    "LABEL.vocab.freqs"
   ]
  },
  {
   "cell_type": "markdown",
   "metadata": {
    "colab_type": "text",
    "id": "JpEMNInXtZsb"
   },
   "source": [
    "The TEXT.vocab dictionary will contain the word counts and indices. The reason why the number of words is VOCABULARY_SIZE + 2 is that it contains to special tokens for padding and unknown words: `<unk>` and `<pad>`."
   ]
  },
  {
   "cell_type": "markdown",
   "metadata": {
    "colab_type": "text",
    "id": "eIQ_zfKLwjKm"
   },
   "source": [
    "Make dataset iterators:"
   ]
  },
  {
   "cell_type": "code",
   "execution_count": 12,
   "metadata": {
    "colab": {},
    "colab_type": "code",
    "id": "i7JiHR1stHNF"
   },
   "outputs": [],
   "source": [
    "train_loader, valid_loader, test_loader = data.BucketIterator.splits(\n",
    "    (train_data, valid_data, test_data), \n",
    "    batch_size=BATCH_SIZE,\n",
    "    sort_within_batch=True, # necessary for packed_padded_sequence\n",
    "    sort_key=lambda x: len(x.review),\n",
    "    device=DEVICE)"
   ]
  },
  {
   "cell_type": "markdown",
   "metadata": {
    "colab_type": "text",
    "id": "R0pT_dMRvicQ"
   },
   "source": [
    "Testing the iterators (note that the number of rows depends on the longest document in the respective batch):"
   ]
  },
  {
   "cell_type": "code",
   "execution_count": 13,
   "metadata": {
    "colab": {
     "base_uri": "https://localhost:8080/",
     "height": 204
    },
    "colab_type": "code",
    "id": "y8SP_FccutT0",
    "outputId": "fe33763a-4560-4dee-adee-31cc6c48b0b2"
   },
   "outputs": [
    {
     "name": "stdout",
     "output_type": "stream",
     "text": [
      "Train\n",
      "Text matrix size: torch.Size([512, 128])\n",
      "Target vector size: torch.Size([128])\n",
      "\n",
      "Valid:\n",
      "Text matrix size: torch.Size([52, 128])\n",
      "Target vector size: torch.Size([128])\n",
      "\n",
      "Test:\n",
      "Text matrix size: torch.Size([74, 128])\n",
      "Target vector size: torch.Size([128])\n"
     ]
    }
   ],
   "source": [
    "print('Train')\n",
    "for batch in train_loader:\n",
    "    print(f'Text matrix size: {batch.review[0].size()}')\n",
    "    print(f'Target vector size: {batch.sentiment.size()}')\n",
    "    break\n",
    "    \n",
    "print('\\nValid:')\n",
    "for batch in valid_loader:\n",
    "    print(f'Text matrix size: {batch.review[0].size()}')\n",
    "    print(f'Target vector size: {batch.sentiment.size()}')\n",
    "    break\n",
    "    \n",
    "print('\\nTest:')\n",
    "for batch in test_loader:\n",
    "    print(f'Text matrix size: {batch.review[0].size()}')\n",
    "    print(f'Target vector size: {batch.sentiment.size()}')\n",
    "    break"
   ]
  },
  {
   "cell_type": "markdown",
   "metadata": {
    "colab_type": "text",
    "id": "G_grdW3pxCzz"
   },
   "source": [
    "## Model"
   ]
  },
  {
   "cell_type": "code",
   "execution_count": 14,
   "metadata": {
    "colab": {},
    "colab_type": "code",
    "id": "nQIUm5EjxFNa"
   },
   "outputs": [],
   "source": [
    "import torch.nn as nn\n",
    "\n",
    "class RNN(nn.Module):\n",
    "    def __init__(self, input_dim, embedding_dim, hidden_dim, output_dim):\n",
    "        \n",
    "        super().__init__()\n",
    "        \n",
    "        self.embedding = nn.Embedding(input_dim, embedding_dim)\n",
    "        self.rnn = nn.LSTM(embedding_dim, hidden_dim)\n",
    "        self.fc = nn.Linear(hidden_dim, output_dim)\n",
    "        \n",
    "    def forward(self, text, text_length):\n",
    "\n",
    "        #[sentence len, batch size] => [sentence len, batch size, embedding size]\n",
    "        embedded = self.embedding(text)\n",
    "        \n",
    "        packed = torch.nn.utils.rnn.pack_padded_sequence(embedded, text_length)\n",
    "        \n",
    "        #[sentence len, batch size, embedding size] => \n",
    "        #  output: [sentence len, batch size, hidden size]\n",
    "        #  hidden: [1, batch size, hidden size]\n",
    "        packed_output, (hidden, cell) = self.rnn(packed)\n",
    "        \n",
    "        return self.fc(hidden.squeeze(0)).view(-1)"
   ]
  },
  {
   "cell_type": "code",
   "execution_count": 15,
   "metadata": {
    "colab": {},
    "colab_type": "code",
    "id": "Ik3NF3faxFmZ"
   },
   "outputs": [],
   "source": [
    "INPUT_DIM = len(TEXT.vocab)\n",
    "\n",
    "torch.manual_seed(RANDOM_SEED)\n",
    "model = RNN(INPUT_DIM, EMBEDDING_DIM, HIDDEN_DIM, OUTPUT_DIM)\n",
    "model = model.to(DEVICE)\n",
    "optimizer = torch.optim.Adam(model.parameters(), lr=LEARNING_RATE)"
   ]
  },
  {
   "cell_type": "markdown",
   "metadata": {
    "colab_type": "text",
    "id": "Lv9Ny9di6VcI"
   },
   "source": [
    "## Training"
   ]
  },
  {
   "cell_type": "code",
   "execution_count": 16,
   "metadata": {
    "colab": {},
    "colab_type": "code",
    "id": "T5t1Afn4xO11"
   },
   "outputs": [],
   "source": [
    "def compute_binary_accuracy(model, data_loader, device):\n",
    "    model.eval()\n",
    "    correct_pred, num_examples = 0, 0\n",
    "    with torch.no_grad():\n",
    "        for batch_idx, batch_data in enumerate(data_loader):\n",
    "            text, text_lengths = batch_data.review\n",
    "            logits = model(text, text_lengths)\n",
    "            predicted_labels = (torch.sigmoid(logits) > 0.5).long()\n",
    "            num_examples += batch_data.sentiment.size(0)\n",
    "            correct_pred += (predicted_labels.long() == batch_data.sentiment.long()).sum()\n",
    "        return correct_pred.float()/num_examples * 100"
   ]
  },
  {
   "cell_type": "code",
   "execution_count": 17,
   "metadata": {
    "colab": {
     "base_uri": "https://localhost:8080/",
     "height": 1836
    },
    "colab_type": "code",
    "id": "EABZM8Vo0ilB",
    "outputId": "5d45e293-9909-4588-e793-8dfaf72e5c67"
   },
   "outputs": [
    {
     "name": "stdout",
     "output_type": "stream",
     "text": [
      "Epoch: 001/015 | Batch 000/293 | Cost: 0.6954\n",
      "Epoch: 001/015 | Batch 050/293 | Cost: 0.6856\n",
      "Epoch: 001/015 | Batch 100/293 | Cost: 0.6901\n",
      "Epoch: 001/015 | Batch 150/293 | Cost: 0.6762\n",
      "Epoch: 001/015 | Batch 200/293 | Cost: 0.6822\n",
      "Epoch: 001/015 | Batch 250/293 | Cost: 0.6314\n",
      "training accuracy: 68.19%\n",
      "valid accuracy: 68.04%\n",
      "Time elapsed: 0.30 min\n",
      "Epoch: 002/015 | Batch 000/293 | Cost: 0.6350\n",
      "Epoch: 002/015 | Batch 050/293 | Cost: 0.5931\n",
      "Epoch: 002/015 | Batch 100/293 | Cost: 0.5692\n",
      "Epoch: 002/015 | Batch 150/293 | Cost: 0.6120\n",
      "Epoch: 002/015 | Batch 200/293 | Cost: 0.5615\n",
      "Epoch: 002/015 | Batch 250/293 | Cost: 0.4990\n",
      "training accuracy: 75.97%\n",
      "valid accuracy: 75.76%\n",
      "Time elapsed: 0.60 min\n",
      "Epoch: 003/015 | Batch 000/293 | Cost: 0.5499\n",
      "Epoch: 003/015 | Batch 050/293 | Cost: 0.4670\n",
      "Epoch: 003/015 | Batch 100/293 | Cost: 0.4914\n",
      "Epoch: 003/015 | Batch 150/293 | Cost: 0.4859\n",
      "Epoch: 003/015 | Batch 200/293 | Cost: 0.4151\n",
      "Epoch: 003/015 | Batch 250/293 | Cost: 0.4168\n",
      "training accuracy: 75.24%\n",
      "valid accuracy: 74.97%\n",
      "Time elapsed: 0.90 min\n",
      "Epoch: 004/015 | Batch 000/293 | Cost: 0.5595\n",
      "Epoch: 004/015 | Batch 050/293 | Cost: 0.5427\n",
      "Epoch: 004/015 | Batch 100/293 | Cost: 0.4845\n",
      "Epoch: 004/015 | Batch 150/293 | Cost: 0.4944\n",
      "Epoch: 004/015 | Batch 200/293 | Cost: 0.5157\n",
      "Epoch: 004/015 | Batch 250/293 | Cost: 0.3823\n",
      "training accuracy: 82.70%\n",
      "valid accuracy: 81.88%\n",
      "Time elapsed: 1.20 min\n",
      "Epoch: 005/015 | Batch 000/293 | Cost: 0.4251\n",
      "Epoch: 005/015 | Batch 050/293 | Cost: 0.3401\n",
      "Epoch: 005/015 | Batch 100/293 | Cost: 0.4786\n",
      "Epoch: 005/015 | Batch 150/293 | Cost: 0.4283\n",
      "Epoch: 005/015 | Batch 200/293 | Cost: 0.4094\n",
      "Epoch: 005/015 | Batch 250/293 | Cost: 0.3650\n",
      "training accuracy: 85.04%\n",
      "valid accuracy: 83.65%\n",
      "Time elapsed: 1.50 min\n",
      "Epoch: 006/015 | Batch 000/293 | Cost: 0.4312\n",
      "Epoch: 006/015 | Batch 050/293 | Cost: 0.4220\n",
      "Epoch: 006/015 | Batch 100/293 | Cost: 0.4013\n",
      "Epoch: 006/015 | Batch 150/293 | Cost: 0.3627\n",
      "Epoch: 006/015 | Batch 200/293 | Cost: 0.3469\n",
      "Epoch: 006/015 | Batch 250/293 | Cost: 0.3996\n",
      "training accuracy: 86.48%\n",
      "valid accuracy: 84.44%\n",
      "Time elapsed: 1.81 min\n",
      "Epoch: 007/015 | Batch 000/293 | Cost: 0.3208\n",
      "Epoch: 007/015 | Batch 050/293 | Cost: 0.3296\n",
      "Epoch: 007/015 | Batch 100/293 | Cost: 0.2913\n",
      "Epoch: 007/015 | Batch 150/293 | Cost: 0.3941\n",
      "Epoch: 007/015 | Batch 200/293 | Cost: 0.2664\n",
      "Epoch: 007/015 | Batch 250/293 | Cost: 0.3107\n",
      "training accuracy: 83.28%\n",
      "valid accuracy: 82.12%\n",
      "Time elapsed: 2.11 min\n",
      "Epoch: 008/015 | Batch 000/293 | Cost: 0.3013\n",
      "Epoch: 008/015 | Batch 050/293 | Cost: 0.3276\n",
      "Epoch: 008/015 | Batch 100/293 | Cost: 0.3442\n",
      "Epoch: 008/015 | Batch 150/293 | Cost: 0.3670\n",
      "Epoch: 008/015 | Batch 200/293 | Cost: 0.3299\n",
      "Epoch: 008/015 | Batch 250/293 | Cost: 0.2150\n",
      "training accuracy: 81.63%\n",
      "valid accuracy: 80.50%\n",
      "Time elapsed: 2.41 min\n",
      "Epoch: 009/015 | Batch 000/293 | Cost: 0.3694\n",
      "Epoch: 009/015 | Batch 050/293 | Cost: 0.3217\n",
      "Epoch: 009/015 | Batch 100/293 | Cost: 0.2864\n",
      "Epoch: 009/015 | Batch 150/293 | Cost: 0.2369\n",
      "Epoch: 009/015 | Batch 200/293 | Cost: 0.5832\n",
      "Epoch: 009/015 | Batch 250/293 | Cost: 0.2619\n",
      "training accuracy: 88.03%\n",
      "valid accuracy: 85.77%\n",
      "Time elapsed: 2.71 min\n",
      "Epoch: 010/015 | Batch 000/293 | Cost: 0.2548\n",
      "Epoch: 010/015 | Batch 050/293 | Cost: 0.3404\n",
      "Epoch: 010/015 | Batch 100/293 | Cost: 0.2193\n",
      "Epoch: 010/015 | Batch 150/293 | Cost: 0.3172\n",
      "Epoch: 010/015 | Batch 200/293 | Cost: 0.3457\n",
      "Epoch: 010/015 | Batch 250/293 | Cost: 0.3032\n",
      "training accuracy: 89.14%\n",
      "valid accuracy: 85.65%\n",
      "Time elapsed: 3.01 min\n",
      "Epoch: 011/015 | Batch 000/293 | Cost: 0.2990\n",
      "Epoch: 011/015 | Batch 050/293 | Cost: 0.2963\n",
      "Epoch: 011/015 | Batch 100/293 | Cost: 0.2323\n",
      "Epoch: 011/015 | Batch 150/293 | Cost: 0.2159\n",
      "Epoch: 011/015 | Batch 200/293 | Cost: 0.2754\n",
      "Epoch: 011/015 | Batch 250/293 | Cost: 0.2884\n",
      "training accuracy: 88.15%\n",
      "valid accuracy: 85.11%\n",
      "Time elapsed: 3.31 min\n",
      "Epoch: 012/015 | Batch 000/293 | Cost: 0.3403\n",
      "Epoch: 012/015 | Batch 050/293 | Cost: 0.3477\n",
      "Epoch: 012/015 | Batch 100/293 | Cost: 0.2251\n",
      "Epoch: 012/015 | Batch 150/293 | Cost: 0.2881\n",
      "Epoch: 012/015 | Batch 200/293 | Cost: 0.2842\n",
      "Epoch: 012/015 | Batch 250/293 | Cost: 0.2865\n",
      "training accuracy: 91.33%\n",
      "valid accuracy: 87.41%\n",
      "Time elapsed: 3.61 min\n",
      "Epoch: 013/015 | Batch 000/293 | Cost: 0.1642\n",
      "Epoch: 013/015 | Batch 050/293 | Cost: 0.2787\n",
      "Epoch: 013/015 | Batch 100/293 | Cost: 0.2424\n",
      "Epoch: 013/015 | Batch 150/293 | Cost: 0.1930\n",
      "Epoch: 013/015 | Batch 200/293 | Cost: 0.2715\n",
      "Epoch: 013/015 | Batch 250/293 | Cost: 0.1915\n",
      "training accuracy: 91.82%\n",
      "valid accuracy: 87.26%\n",
      "Time elapsed: 3.91 min\n",
      "Epoch: 014/015 | Batch 000/293 | Cost: 0.2661\n",
      "Epoch: 014/015 | Batch 050/293 | Cost: 0.2232\n",
      "Epoch: 014/015 | Batch 100/293 | Cost: 0.2523\n",
      "Epoch: 014/015 | Batch 150/293 | Cost: 0.2927\n",
      "Epoch: 014/015 | Batch 200/293 | Cost: 0.2393\n",
      "Epoch: 014/015 | Batch 250/293 | Cost: 0.2638\n",
      "training accuracy: 91.85%\n",
      "valid accuracy: 87.43%\n",
      "Time elapsed: 4.22 min\n",
      "Epoch: 015/015 | Batch 000/293 | Cost: 0.2571\n",
      "Epoch: 015/015 | Batch 050/293 | Cost: 0.2829\n",
      "Epoch: 015/015 | Batch 100/293 | Cost: 0.1962\n",
      "Epoch: 015/015 | Batch 150/293 | Cost: 0.2420\n",
      "Epoch: 015/015 | Batch 200/293 | Cost: 0.1490\n",
      "Epoch: 015/015 | Batch 250/293 | Cost: 0.2455\n",
      "training accuracy: 89.82%\n",
      "valid accuracy: 85.55%\n",
      "Time elapsed: 4.52 min\n",
      "Total Training Time: 4.52 min\n",
      "Test accuracy: 86.44%\n"
     ]
    }
   ],
   "source": [
    "start_time = time.time()\n",
    "\n",
    "for epoch in range(NUM_EPOCHS):\n",
    "    model.train()\n",
    "    for batch_idx, batch_data in enumerate(train_loader):\n",
    "        \n",
    "        text, text_lengths = batch_data.review\n",
    "        \n",
    "        ### FORWARD AND BACK PROP\n",
    "        logits = model(text, text_lengths)\n",
    "        cost = F.binary_cross_entropy_with_logits(logits, batch_data.sentiment)\n",
    "        optimizer.zero_grad()\n",
    "        \n",
    "        cost.backward()\n",
    "        \n",
    "        ### UPDATE MODEL PARAMETERS\n",
    "        optimizer.step()\n",
    "        \n",
    "        ### LOGGING\n",
    "        if not batch_idx % 50:\n",
    "            print (f'Epoch: {epoch+1:03d}/{NUM_EPOCHS:03d} | '\n",
    "                   f'Batch {batch_idx:03d}/{len(train_loader):03d} | '\n",
    "                   f'Cost: {cost:.4f}')\n",
    "\n",
    "    with torch.set_grad_enabled(False):\n",
    "        print(f'training accuracy: '\n",
    "              f'{compute_binary_accuracy(model, train_loader, DEVICE):.2f}%'\n",
    "              f'\\nvalid accuracy: '\n",
    "              f'{compute_binary_accuracy(model, valid_loader, DEVICE):.2f}%')\n",
    "        \n",
    "    print(f'Time elapsed: {(time.time() - start_time)/60:.2f} min')\n",
    "    \n",
    "print(f'Total Training Time: {(time.time() - start_time)/60:.2f} min')\n",
    "print(f'Test accuracy: {compute_binary_accuracy(model, test_loader, DEVICE):.2f}%')"
   ]
  },
  {
   "cell_type": "code",
   "execution_count": 18,
   "metadata": {
    "colab": {},
    "colab_type": "code",
    "id": "jt55pscgFdKZ"
   },
   "outputs": [],
   "source": [
    "import spacy\n",
    "nlp = spacy.load('en')\n",
    "\n",
    "def predict_sentiment(model, sentence):\n",
    "    # based on:\n",
    "    # https://github.com/bentrevett/pytorch-sentiment-analysis/blob/\n",
    "    # master/2%20-%20Upgraded%20Sentiment%20Analysis.ipynb\n",
    "    model.eval()\n",
    "    tokenized = [tok.text for tok in nlp.tokenizer(sentence)]\n",
    "    indexed = [TEXT.vocab.stoi[t] for t in tokenized]\n",
    "    length = [len(indexed)]\n",
    "    tensor = torch.LongTensor(indexed).to(DEVICE)\n",
    "    tensor = tensor.unsqueeze(1)\n",
    "    length_tensor = torch.LongTensor(length)\n",
    "    prediction = torch.sigmoid(model(tensor, length_tensor))\n",
    "    return prediction.item()"
   ]
  },
  {
   "cell_type": "code",
   "execution_count": 19,
   "metadata": {
    "colab": {
     "base_uri": "https://localhost:8080/",
     "height": 51
    },
    "colab_type": "code",
    "id": "O4__q0coFJyw",
    "outputId": "1a7f84ba-a977-455e-e248-3b7036d496d0"
   },
   "outputs": [
    {
     "name": "stdout",
     "output_type": "stream",
     "text": [
      "Probability positive:\n"
     ]
    },
    {
     "data": {
      "text/plain": [
       "0.7968715578317642"
      ]
     },
     "execution_count": 19,
     "metadata": {},
     "output_type": "execute_result"
    }
   ],
   "source": [
    "print('Probability positive:')\n",
    "1-predict_sentiment(model, \"This is such an awesome movie, I really love it!\")"
   ]
  },
  {
   "cell_type": "code",
   "execution_count": 20,
   "metadata": {},
   "outputs": [
    {
     "name": "stdout",
     "output_type": "stream",
     "text": [
      "Probability negative:\n"
     ]
    },
    {
     "data": {
      "text/plain": [
       "0.8121260404586792"
      ]
     },
     "execution_count": 20,
     "metadata": {},
     "output_type": "execute_result"
    }
   ],
   "source": [
    "print('Probability negative:')\n",
    "predict_sentiment(model, \"I really hate this movie. It is really bad and sucks!\")"
   ]
  },
  {
   "cell_type": "code",
   "execution_count": 21,
   "metadata": {
    "colab": {},
    "colab_type": "code",
    "id": "7lRusB3dF80X"
   },
   "outputs": [
    {
     "name": "stdout",
     "output_type": "stream",
     "text": [
      "torchtext 0.4.0\n",
      "pandas    0.24.2\n",
      "spacy     2.2.3\n",
      "torch     1.4.0\n",
      "\n"
     ]
    }
   ],
   "source": [
    "%watermark -iv"
   ]
  }
 ],
 "metadata": {
  "colab": {
   "collapsed_sections": [],
   "name": "rnn_lstm_packed_imdb.ipynb",
   "provenance": [],
   "version": "0.3.2"
  },
  "kernelspec": {
   "display_name": "Python 3",
   "language": "python",
   "name": "python3"
  },
  "language_info": {
   "codemirror_mode": {
    "name": "ipython",
    "version": 3
   },
   "file_extension": ".py",
   "mimetype": "text/x-python",
   "name": "python",
   "nbconvert_exporter": "python",
   "pygments_lexer": "ipython3",
   "version": "3.7.3"
  }
 },
 "nbformat": 4,
 "nbformat_minor": 4
}
